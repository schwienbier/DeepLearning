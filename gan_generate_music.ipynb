{
  "nbformat": 4,
  "nbformat_minor": 0,
  "metadata": {
    "colab": {
      "provenance": []
    },
    "kernelspec": {
      "name": "python3",
      "display_name": "Python 3"
    },
    "language_info": {
      "name": "python"
    },
    "accelerator": "GPU"
  },
  "cells": [
    {
      "cell_type": "markdown",
      "source": [
        "# Train GAN to generate a song with 100 notes"
      ],
      "metadata": {
        "id": "oilmRT8k82g4"
      }
    },
    {
      "cell_type": "code",
      "execution_count": null,
      "metadata": {
        "colab": {
          "base_uri": "https://localhost:8080/"
        },
        "id": "_SsaShOD8vhl",
        "outputId": "cd5916d5-182f-439a-d896-078d591f5bef"
      },
      "outputs": [
        {
          "output_type": "stream",
          "name": "stdout",
          "text": [
            "Cloning into 'Classical-Piano-Composer'...\n",
            "remote: Enumerating objects: 334, done.\u001b[K\n",
            "remote: Total 334 (delta 0), reused 0 (delta 0), pack-reused 334\u001b[K\n",
            "Receiving objects: 100% (334/334), 721.79 MiB | 22.68 MiB/s, done.\n",
            "Resolving deltas: 100% (41/41), done.\n"
          ]
        }
      ],
      "source": [
        "! git clone https://github.com/Skuldur/Classical-Piano-Composer.git"
      ]
    },
    {
      "cell_type": "markdown",
      "source": [
        "## prepare dataset"
      ],
      "metadata": {
        "id": "_jORcdgo9rxW"
      }
    },
    {
      "cell_type": "code",
      "source": [
        "import pickle\n",
        "import numpy\n",
        "from music21 import instrument, note, stream, chord\n",
        "from keras.models import Sequential\n",
        "from keras.layers import Dense\n",
        "from keras.layers import Dropout\n",
        "from keras.layers import LSTM\n",
        "from keras.layers import BatchNormalization as BatchNorm\n",
        "from keras.layers import Activation"
      ],
      "metadata": {
        "id": "_TuJ4-sEASkX"
      },
      "execution_count": null,
      "outputs": []
    },
    {
      "cell_type": "code",
      "source": [
        "import tensorflow as tf\n",
        "from tensorflow.keras import layers"
      ],
      "metadata": {
        "id": "43Wnd8stPuGa"
      },
      "execution_count": null,
      "outputs": []
    },
    {
      "cell_type": "code",
      "source": [
        "with open('./Classical-Piano-Composer/data/notes', 'rb') as filepath:\n",
        "    notes = pickle.load(filepath)"
      ],
      "metadata": {
        "id": "XpUPhL6EAWUf"
      },
      "execution_count": null,
      "outputs": []
    },
    {
      "cell_type": "code",
      "source": [
        "# Get all pitch names\n",
        "pitchnames = sorted(set(item for item in notes))\n",
        "# Get all pitch names\n",
        "n_vocab = len(set(notes))"
      ],
      "metadata": {
        "id": "JpLJaKTOAa9E"
      },
      "execution_count": null,
      "outputs": []
    },
    {
      "cell_type": "code",
      "source": [
        "def prepare_input_sequences(notes, pitchnames, n_vocab):\n",
        "    \"\"\" Prepare the sequences used by the Neural Network \"\"\"\n",
        "    # map between notes and integers and back\n",
        "    note_to_int = dict((note, number) for number, note in enumerate(pitchnames))\n",
        "\n",
        "    sequence_length = 100\n",
        "    network_input = []\n",
        "    output = []\n",
        "    for i in range(0, len(notes) - sequence_length, 1):\n",
        "        sequence_in = notes[i:i + sequence_length]\n",
        "        sequence_out = notes[i + sequence_length]\n",
        "        network_input.append([note_to_int[char] for char in sequence_in])\n",
        "        output.append(note_to_int[sequence_out])\n",
        "\n",
        "    n_patterns = len(network_input)\n",
        "\n",
        "    # reshape the input into a format compatible with LSTM layers\n",
        "    #normalized_input = numpy.reshape(network_input, (n_patterns, sequence_length, 1))\n",
        "    # normalize input\n",
        "    normalized_input = numpy.array(network_input) / float(n_vocab)\n",
        "\n",
        "    return (network_input, normalized_input, numpy.array(output))"
      ],
      "metadata": {
        "id": "YDfy3qs3AjET"
      },
      "execution_count": null,
      "outputs": []
    },
    {
      "cell_type": "code",
      "source": [
        "network_input, normalized_input, output = prepare_input_sequences(notes, pitchnames, n_vocab)"
      ],
      "metadata": {
        "id": "IzE7ilzrAeYU"
      },
      "execution_count": null,
      "outputs": []
    },
    {
      "cell_type": "code",
      "source": [
        "normalized_input.shape"
      ],
      "metadata": {
        "colab": {
          "base_uri": "https://localhost:8080/"
        },
        "id": "WLXFtrwuPT2r",
        "outputId": "6b70d521-b2bc-4025-ddba-bd04a65f5a07"
      },
      "execution_count": null,
      "outputs": [
        {
          "output_type": "execute_result",
          "data": {
            "text/plain": [
              "(27790, 100)"
            ]
          },
          "metadata": {},
          "execution_count": 8
        }
      ]
    },
    {
      "cell_type": "code",
      "source": [
        "train_dataset = tf.data.Dataset.from_tensor_slices((normalized_input))"
      ],
      "metadata": {
        "id": "JdMc0xsUOxGb"
      },
      "execution_count": null,
      "outputs": []
    },
    {
      "cell_type": "code",
      "source": [
        "train_ds = train_dataset.batch(128, True)"
      ],
      "metadata": {
        "id": "VX_SZXhzQaa1"
      },
      "execution_count": null,
      "outputs": []
    },
    {
      "cell_type": "markdown",
      "source": [
        "## generator model"
      ],
      "metadata": {
        "id": "qxDnlhW2AyK-"
      }
    },
    {
      "cell_type": "code",
      "source": [
        "def make_generator_model():\n",
        "    model = tf.keras.Sequential()\n",
        "    # Fully connected layer:\n",
        "    model.add(layers.Dense(100, activation='relu', input_shape=(20,)))\n",
        "\n",
        "    model.add(layers.Dense(256, activation='relu'))\n",
        "    model.add(layers.Dense(512, activation='relu'))\n",
        "    model.add(layers.Dense(256, activation='relu'))\n",
        "    # Layer 3\n",
        "    model.add(layers.Dense(100, activation='sigmoid'))\n",
        "\n",
        "    return model"
      ],
      "metadata": {
        "id": "IYqOqAa_ArV2"
      },
      "execution_count": null,
      "outputs": []
    },
    {
      "cell_type": "code",
      "source": [
        "generator = make_generator_model()"
      ],
      "metadata": {
        "id": "cxsebL2JA66l"
      },
      "execution_count": null,
      "outputs": []
    },
    {
      "cell_type": "markdown",
      "source": [
        "## discriminator model"
      ],
      "metadata": {
        "id": "LPAfeAQ9D0W6"
      }
    },
    {
      "cell_type": "code",
      "source": [
        "def make_discriminator_model():\n",
        "    model = tf.keras.Sequential()\n",
        "    model.add(layers.Dense(256, activation='relu', input_shape=(100,)))\n",
        "\n",
        "    # Fully connected layer\n",
        "    model.add(layers.Dense(256, activation='relu'))\n",
        "    model.add(layers.Dense(128, activation='relu'))\n",
        "    model.add(layers.Dense(64, activation='relu'))\n",
        "    model.add(layers.Dense(1, activation='sigmoid'))\n",
        "    return model"
      ],
      "metadata": {
        "id": "woVhLKvfD2nC"
      },
      "execution_count": null,
      "outputs": []
    },
    {
      "cell_type": "code",
      "source": [
        "discriminator = make_discriminator_model()"
      ],
      "metadata": {
        "id": "VbeZZAlkD6Lp"
      },
      "execution_count": null,
      "outputs": []
    },
    {
      "cell_type": "markdown",
      "source": [
        "## loss function"
      ],
      "metadata": {
        "id": "RABswX-0E_jR"
      }
    },
    {
      "cell_type": "code",
      "source": [
        "# This method returns a helper function to compute the binary cross entropy loss\n",
        "cross_entropy = tf.keras.losses.BinaryCrossentropy(from_logits=True)"
      ],
      "metadata": {
        "id": "KagkxI2BE-vz"
      },
      "execution_count": null,
      "outputs": []
    },
    {
      "cell_type": "code",
      "source": [
        "def discriminator_loss(real_output, fake_output):\n",
        "    real_loss = cross_entropy(tf.ones_like(real_output),real_output)\n",
        "    fake_loss = cross_entropy(tf.zeros_like(fake_output),fake_output)\n",
        "    total_loss = real_loss + fake_loss\n",
        "    return total_loss"
      ],
      "metadata": {
        "id": "P7GI6vgdFFPb"
      },
      "execution_count": null,
      "outputs": []
    },
    {
      "cell_type": "code",
      "source": [
        "def generator_loss(fake_output):\n",
        "    generator_loss = cross_entropy(tf.ones_like(fake_output),fake_output)\n",
        "    return generator_loss"
      ],
      "metadata": {
        "id": "gHlbzvsiFHQi"
      },
      "execution_count": null,
      "outputs": []
    },
    {
      "cell_type": "code",
      "source": [
        "learning_rate = 1e-5\n",
        "generator_optimizer = tf.keras.optimizers.Adam(1e-5)\n",
        "discriminator_optimizer = tf.keras.optimizers.Adam(1e-5)"
      ],
      "metadata": {
        "id": "F60CCaZWRVR6"
      },
      "execution_count": null,
      "outputs": []
    },
    {
      "cell_type": "markdown",
      "source": [
        "## training step"
      ],
      "metadata": {
        "id": "E-mPu-00Rbl9"
      }
    },
    {
      "cell_type": "code",
      "source": [
        "import time\n",
        "import os"
      ],
      "metadata": {
        "id": "SCvW7SQTSYUO"
      },
      "execution_count": null,
      "outputs": []
    },
    {
      "cell_type": "code",
      "source": [
        "checkpoint_dir = \"song_cp_new\"\n",
        "checkpoint_prefix = os.path.join(checkpoint_dir, \"ckpt\")\n",
        "checkpoint = tf.train.Checkpoint(generator_optimizer=generator_optimizer,\n",
        "                                 discriminator_optimizer=discriminator_optimizer,\n",
        "                                 generator=generator,\n",
        "                                 discriminator=discriminator)"
      ],
      "metadata": {
        "id": "YPfDD0t4StK2"
      },
      "execution_count": null,
      "outputs": []
    },
    {
      "cell_type": "code",
      "source": [
        "batch_size = 128\n",
        "noise_dim = 20\n",
        "num_examples_to_generate = 1\n",
        "\n",
        "sample_noise_vector = tf.random.normal([num_examples_to_generate, noise_dim])\n",
        "int_to_note = dict((number, note) for number, note in enumerate(pitchnames))"
      ],
      "metadata": {
        "id": "dao5wEVlRnt7"
      },
      "execution_count": null,
      "outputs": []
    },
    {
      "cell_type": "code",
      "source": [
        "# Notice the use of `tf.function`\n",
        "# This annotation causes the function to be \"compiled\".\n",
        "@tf.function\n",
        "def train_step(songs):\n",
        "    noise_vector = tf.random.normal([batch_size, noise_dim])\n",
        "\n",
        "    with tf.GradientTape() as gen_tape, tf.GradientTape() as disc_tape:\n",
        "      # Generator output\n",
        "      generated_songs = generator(noise_vector, training=True)\n",
        "\n",
        "      # Discriminator output\n",
        "      real_output = discriminator(songs, training=True)\n",
        "      fake_output = discriminator(generated_songs, training=True)\n",
        "\n",
        "      # Loss functions\n",
        "      gen_loss = generator_loss(fake_output)\n",
        "      disc_loss = discriminator_loss(real_output, fake_output)\n",
        "\n",
        "    # Gradients\n",
        "    gradients_of_generator = gen_tape.gradient(gen_loss, generator.trainable_variables)\n",
        "    gradients_of_discriminator = disc_tape.gradient(disc_loss, discriminator.trainable_variables)\n",
        "\n",
        "    # Update both networks\n",
        "    generator_optimizer.apply_gradients(zip(gradients_of_generator, generator.trainable_variables))\n",
        "    discriminator_optimizer.apply_gradients(zip(gradients_of_discriminator, discriminator.trainable_variables))"
      ],
      "metadata": {
        "id": "DI8OYiHcRXh9"
      },
      "execution_count": null,
      "outputs": []
    },
    {
      "cell_type": "code",
      "source": [
        "def generate_song(model, epoch, test_input):\n",
        "  # Notice `training` is set to False.\n",
        "  # This is so all layers run in inference mode (batchnorm).\n",
        "  predictions = model(test_input, training=False)\n",
        "\n",
        "  pred = numpy.reshape(predictions.numpy() * n_vocab, (100,)).astype(int)\n",
        "\n",
        "  sample_generated_song = []\n",
        "  for n in pred:\n",
        "    if n==279:\n",
        "      n=278\n",
        "    sample_generated_song.append(int_to_note[n])\n",
        "  print(sample_generated_song)\n",
        ""
      ],
      "metadata": {
        "id": "GEAFhBw5Ua-J"
      },
      "execution_count": null,
      "outputs": []
    },
    {
      "cell_type": "code",
      "source": [
        "def train(dataset, epochs):\n",
        "  for epoch in range(epochs):\n",
        "    start = time.time()\n",
        "\n",
        "    for song_batch in dataset:\n",
        "      train_step(song_batch)\n",
        "\n",
        "    # Save the model every 100 epochs\n",
        "    if (epoch + 1) % 100 == 0:\n",
        "      checkpoint.save(file_prefix = checkpoint_prefix)\n",
        "\n",
        "    print ('Time for epoch {} is {} sec'.format(epoch + 1, time.time()-start))\n",
        "\n",
        "    generate_song(generator, epoch + 1, sample_noise_vector)"
      ],
      "metadata": {
        "id": "UVDh4Dq3SPW6"
      },
      "execution_count": null,
      "outputs": []
    },
    {
      "cell_type": "code",
      "source": [
        "#%%time\n",
        "train(train_ds, 100)"
      ],
      "metadata": {
        "colab": {
          "base_uri": "https://localhost:8080/"
        },
        "id": "kfa_F-J_TT0F",
        "outputId": "9bbbc5f9-0082-487c-9ec8-9dc8e5565f8e"
      },
      "execution_count": null,
      "outputs": [
        {
          "output_type": "stream",
          "name": "stdout",
          "text": [
            "Time for epoch 1 is 1.4456756114959717 sec\n",
            "['D5', 'G#1', 'G1', '1.6', '4.9', '9.0.4', '0.4.7', 'E2', '8.9.1.4', '10.0.3', 'G4', 'G#6', 'G6', '9.11.0.4', 'E-6', 'G4', 'G#6', 'G#4', '11', 'D1', 'G4', 'E5', 'G6', 'G6', 'G6', '4.7.9', 'G3', 'D5', 'F3', 'G4', 'E6', 'F2', '11.4', 'G#2', 'G5', 'E3', 'G6', '4.7.9.0', 'F#6', 'G4', 'G#3', 'G4', 'G#2', '0.6', '9.2', 'B-1', 'G3', 'B6', '2.8', 'G6', 'A0', 'G#4', '8.9.2', 'D6', '5', 'G6', 'G4', 'B-6', 'G4', 'G#5', 'G3', 'F6', 'G5', 'G6', 'A0', 'G4', 'G4', 'G5', 'A2', 'C#1', 'F6', 'G3', 'F#1', 'E-6', 'F2', 'C#1', 'E-3', 'G6', 'G6', '0.2.5', 'G#6', '4.5.9', 'F3', '10.0.4', '8', '10.11', 'G5', '1.4.8', 'G4', 'G6', '2.5.7', 'F#5', '10.2.3', '2.5', 'G6', 'F#1', '2.4.9', 'G2', 'G1', 'F2']\n",
            "Time for epoch 2 is 1.5374221801757812 sec\n",
            "['G#2', 'G#4', '1.3.8', 'G4', 'D2', 'E-4', '10.0', '4.8', 'F4', 'E1', 'G#5', 'G6', '6.8', 'G#1', '11.3.6', 'G1', 'G4', 'B-6', 'G2', 'G2', 'G3', '0.4.5', 'G6', 'G6', 'G1', 'G2', 'E-3', 'G5', 'D1', 'G3', 'G#5', 'G6', 'C#2', 'G6', 'G5', 'G6', 'G6', 'G4', 'G4', 'G5', 'E-5', 'G5', 'G#4', 'F#3', 'F2', 'G#3', 'F#1', '1.3', 'G#2', 'G6', 'G#4', '2.4.9', '4.6.10', 'G5', '5.7', 'G6', '1.7', 'G#5', '7.10.1.3', '9.0.2', 'G2', 'C5', 'G#1', 'G6', 'A3', 'B0', 'C#5', 'G3', 'G#5', '4.7.9.0', 'F4', 'G4', '9.0.2', '6.8', 'B-1', '0.1', 'G#6', 'G3', 'G4', '10.2.5', 'F4', '0.3', 'G#3', 'G#6', '4.10', '1.4', '11.2.5.7', '9.1', '1.5.9', 'G4', 'G#5', '4.8.9', 'B1', '9.0.2', 'G6', '0.2.5', 'C1', '2.4.7', 'G5', 'G#1']\n",
            "Time for epoch 3 is 1.0547962188720703 sec\n",
            "['G#6', 'G#3', 'E2', 'G5', 'G2', 'G#6', 'G5', 'E3', 'G2', 'G5', 'G4', 'G6', '6.8', 'G#3', 'E6', 'G#4', 'G6', 'G2', 'G2', 'G4', 'C#2', 'C#3', 'G6', 'G6', '4.8', 'G1', 'G#5', 'G3', 'G#1', '10.1.5', 'G5', 'G6', 'G4', 'G6', 'F5', 'G#6', 'F#2', 'G6', 'G4', 'F3', '9.11.2.5', 'G4', 'G3', 'G5', 'G5', 'G#2', '9.2.3', 'F#2', 'C2', '10.2.4', 'G5', 'G#1', 'G3', 'G4', 'G#4', 'G3', 'C6', 'G3', '0.3.6.9', 'F#2', '9.10.2.4', '7.11', '1.6', 'G5', 'G1', '10.1', '0.3.6', 'G#5', 'F#5', 'F#3', '5.8', 'G#2', '11.1.6', '1.4', '11.1.6', '9.1', '4.6', '0.3.5', 'G6', 'F4', '10.0', '1.5', '7.11.2', 'G2', 'G#6', 'F6', '10.11', 'D5', '0.4.7', 'G4', 'F3', '3.8', 'E2', 'G#3', 'G6', '0.2.7', 'F#5', '2.5.9', 'G4', 'A0']\n",
            "Time for epoch 4 is 0.8413829803466797 sec\n",
            "['E2', '8.9', 'G#6', 'G5', 'G5', '1.2', 'G6', 'G#4', '0.6', 'G2', '10.0.4', 'G6', '7.9.2', '10.0.3', 'G#5', 'F4', 'G6', 'G6', 'G#6', 'G1', '5', '7.11.2', 'G6', 'G#4', 'C1', '7.10.1.3', 'G5', 'F2', '8', '2.4', 'G#2', 'G6', 'G5', 'G6', 'G6', '0.2.7', '11.2.5', 'G6', 'G2', '1.3.6', 'F1', 'G#1', 'G#5', 'G6', 'G6', 'G2', 'G#2', 'G6', 'G#1', 'E-6', 'G6', 'G3', 'G5', 'F#3', 'G3', '0.2', 'G5', '1.4.7.9', 'G#6', 'G3', 'E-5', 'G#4', 'G#1', '8.11.1.4', 'G#2', 'G1', 'F#6', 'B-6', '5.7.0', 'G1', 'G#6', 'G2', 'B6', 'E-3', 'F5', 'G3', 'G#5', '0.2', 'G6', 'G#3', '6.8.10', 'G4', '6.8.10', 'G3', 'G5', 'G2', 'G4', '4', 'C4', 'C4', '11.1.4', 'G#5', 'D5', 'G4', 'G2', 'G2', 'F5', '7.11.0', '9.2.3', '11.0.5']\n",
            "Time for epoch 5 is 0.8400845527648926 sec\n",
            "['B4', 'G#3', 'G3', 'G#5', 'C2', 'G1', 'G6', 'G4', 'E-2', 'G#6', '4.5.9', 'G6', '1.4.6.9', 'F#5', 'G4', 'F1', 'G5', 'G5', 'F5', 'G1', 'E3', 'G2', 'G6', 'A3', 'G5', 'C1', 'G2', 'F#4', 'E1', '9.10.2.4', '8.0.3', 'G4', 'F#5', 'E4', 'D6', '1.3', 'G#6', 'G6', '4.6.9.11', 'E5', 'G3', '9.0.3.5', 'C#4', 'G1', 'G6', 'G4', '4', 'G5', 'G6', 'G3', 'G6', 'F#5', 'B-2', '10.0.3', 'F6', '1.3', 'G2', '2.4.7', 'G5', 'F3', 'G#5', '3.7.10', 'G5', '1.2', '11.0', 'G#4', 'G#1', '11.2.5', 'C5', 'G#5', 'G2', '0.3.6', 'E-3', 'G6', 'G4', 'G3', 'G6', 'G#3', 'G3', 'G#1', 'F2', 'G6', 'D1', 'G6', 'G5', 'F4', 'G2', 'A1', '7.10', 'F#1', 'C3', 'G5', 'G5', 'G4', 'E4', 'G3', '7.9', 'G4', '7.0', '9.0.3.5']\n",
            "Time for epoch 6 is 0.8148539066314697 sec\n",
            "['F6', '3', 'G5', '1.2.4.6.8.10', '0.6', 'G5', 'G6', 'G5', 'G#4', '2.6.10', 'G2', 'G6', 'G#4', '9.1', 'G2', '1.5.9', '1.7', '7.9.2', '6.9.11.2', 'G1', '8.11.3', 'G6', '11.1', 'B1', 'G5', 'G#6', '6.8.1', 'G5', 'G#5', 'D6', 'C#7', 'F1', '4.6.10', '0.3', '7', 'F6', 'G6', 'G6', 'G#3', 'G4', 'G4', '9.2.3', '9.11', '2.6', 'F6', '1.5.9', 'D2', 'G#6', 'G6', 'G#4', 'G6', '9.0', '7.9.0', 'F#1', '4.10', 'F#2', '9.10.2.4', 'G#3', 'G6', '3.9', 'F1', 'G4', 'G#2', '2.5.7', '4.5.9', 'G5', 'G#2', '5.9', '7.11.0', 'F#1', 'G3', '0.6', 'G#2', 'G6', 'G#4', 'G#3', 'G#2', 'G5', '11.1.5', '4.6', 'G5', 'G6', 'G3', 'G6', 'G3', 'E-2', 'G1', 'G1', 'E3', 'B-4', 'E-2', 'G2', 'G5', '7.11.0', '0.3.7', 'G1', 'F#6', 'G5', 'E5', 'E3']\n",
            "Time for epoch 7 is 0.8110055923461914 sec\n",
            "['8.11', 'E-2', '7.9.0', '8.9.1', '6.11', 'G6', 'G6', 'G3', 'G6', 'G3', 'G5', 'G5', 'G6', 'G4', 'E-2', 'F4', 'G3', 'G3', 'G4', '1', 'G1', 'G6', '2.4.8', 'G6', 'G6', 'F4', 'G#4', 'G5', 'G6', 'G2', 'G5', 'E-4', 'G#3', 'G3', '5.9.11', 'G5', 'G6', 'B-2', 'G2', 'G3', 'G6', 'G4', 'G#5', 'B-4', '8.11', 'G6', 'E2', 'G6', 'G6', '9.11.0.4', 'G4', 'C7', 'G2', 'E-2', '1.4.7.9', 'G5', 'G#3', 'G#4', 'G4', 'G4', '9.0.4', 'G2', 'F#2', 'G#4', 'C7', 'G6', 'C#2', 'G#2', 'F6', 'D7', '0.4', 'E3', '1', 'G6', 'G#6', '1.4.6', 'G4', 'G#4', '0.4.5', 'B3', 'G5', 'G5', 'F6', 'G5', '0.2.7', 'G4', 'C4', 'G4', 'F1', 'G1', 'E-5', 'C#5', 'F6', '5.10', '0.2.7', 'G2', 'G5', 'G3', '3.6.8', 'D2']\n",
            "Time for epoch 8 is 0.811802864074707 sec\n",
            "['E5', 'F6', '11.1', 'G#2', 'F#5', 'G6', 'G1', '5.7', 'G6', 'G5', 'G6', 'C7', 'G6', 'G3', 'C#7', 'G5', 'G1', '1.3.6', 'G2', '5.9.11', 'G3', 'G6', 'G5', 'G6', 'G6', '8.11.1', 'F1', 'G5', 'G6', 'G4', 'G5', '11.2.5', 'G4', 'G6', 'F#5', 'G6', 'G6', '11.1.5', 'G6', '5.7', 'G6', 'G3', '4.7', 'G6', 'G1', 'G6', 'G4', 'G6', 'G6', 'G3', '1.3.8', 'E-6', 'G6', '7.11', 'G#1', 'G6', 'G1', 'G2', '1.4.6.9', 'F1', 'G3', 'E1', '0.3.5', 'G5', '1.3.7', 'G6', 'E-6', 'G4', 'G5', 'G#5', '0', '1.4', '1.5.8', '11.4.5', 'C2', '0.5', 'F#4', '5.10', 'F#1', 'F1', 'G5', 'F#4', '1.7', 'E3', '1.4.6.9', 'G6', '1.4.7', 'F3', 'F1', 'G6', 'G2', 'F5', '2.4.7', 'G3', '7.11.2', 'G5', 'G2', 'G#4', 'E-2', 'C#7']\n",
            "Time for epoch 9 is 0.818403959274292 sec\n",
            "['G4', '2.6', 'E-6', 'G3', 'G3', 'G5', '1.2.6', 'G1', 'G6', '1.5.9', 'G5', '1.4.6', 'G6', 'G#4', 'F#6', 'G6', 'G1', '9.0.3.5', 'G4', 'G4', 'G3', 'G5', 'G5', 'G6', 'G6', 'G3', 'G6', 'G5', 'G6', 'G6', 'G#4', 'G#6', 'G5', 'G6', 'G6', 'G6', 'G6', 'G3', 'G6', '9.11.2.5', 'G6', 'G3', 'D1', 'G6', 'G4', 'G6', 'G5', 'G6', 'A0', 'G2', '2.5.9', 'D7', '2.8', 'G#4', 'G5', 'G#2', '6.10', 'F#5', '0.4', '9.0', 'F6', '5.8', '3.5.7.10', 'G5', 'G#4', 'G6', 'F#6', 'G5', 'C#2', 'B-5', '1.4', 'B-1', 'G3', 'B-3', '1.4.6.9', 'F#3', '3.7.10', 'G#6', 'G2', '9.2', 'G2', 'G#3', 'C5', '11.2.4', 'G4', 'F6', 'G1', '1.5.9', 'F#6', 'G4', 'G5', '2.5.7.10', 'G#2', 'D5', 'G4', 'G6', '10.0.5', '0.3.6.9', 'F1', '11.0.5']\n",
            "Time for epoch 10 is 0.8253428936004639 sec\n",
            "['G6', 'G3', 'F1', 'G5', 'G5', 'G3', 'F6', 'G6', 'G6', 'F2', 'G6', 'F#2', 'F#2', 'F#4', 'G5', 'G6', '11.2', 'G3', '3', '11.1', 'G5', '9', 'G#1', 'G6', 'G6', 'G2', 'G#3', '0.2.4.7', 'G6', 'E6', '1.3.7', 'G1', 'C6', 'G5', 'G6', 'G6', 'F3', 'G6', 'G#2', 'G#3', '6.9.1', 'E5', 'F#2', 'G6', 'G6', 'G6', 'C#2', 'F6', '0.2', '9.10.2.4', 'G3', 'G6', '0.2.5', 'G6', 'G2', '11.1.6', 'D1', 'F4', 'G3', 'C7', '10.1.5', '0.2.7', 'G6', 'G6', 'G5', 'G1', 'G#3', 'G#4', '0.2', '2.4.6.9.11', 'G4', 'F2', 'G4', '3.6.9.11', 'G2', 'G2', 'G4', 'G6', '9.0.3.5', 'G2', '1.2.6', '9', '1.2.6', 'G2', 'G5', '0.3', 'G6', 'F4', '0.2.5', '1.2.4.6.8.10', 'G3', 'G4', 'G4', '6.9.11.2', 'G2', 'G2', '0.3.7', 'C7', 'G3', 'C7']\n",
            "Time for epoch 11 is 0.8310079574584961 sec\n",
            "['G5', 'G2', '0.2.4.7', 'G6', 'G6', 'G2', 'E6', 'B-4', 'G5', 'G6', 'G#3', 'G4', '0.2', 'G#1', 'G#6', 'G2', '0.2', '6.8.11.2', '0.2.5', 'G#2', 'G#2', 'F#1', 'G2', 'G6', '11.2.6', '8.10', 'F#5', '0.1', '0.3.6.9', '11.0.4.7', 'E3', 'G6', '0.2.7', 'G4', 'G6', 'G6', 'C#4', 'G6', 'F6', 'G#3', '2.6.9', '0.3.6.9', 'G2', 'G5', 'B2', 'G6', 'F1', '0.3.5', '0', '0.2.7', '7.10.2', 'G#2', '9.0.2', 'G1', '6.8.1', 'B-6', 'G2', '3.6.8', 'F#5', 'G1', '6.11', 'G#5', 'G#5', 'G5', 'G6', '0.2.5', 'C#6', '0.6', 'E3', 'E1', 'G#6', 'F4', 'G6', '6.10.11.1', 'B-5', 'G5', 'G5', 'G5', 'E-4', 'F6', 'G2', '0.1', 'F2', 'G1', 'F5', '1.4', 'G6', 'G#2', 'G#1', 'G#4', '11.1.4', 'G3', 'G4', 'G#1', 'G6', '0.2.4.7', '10.3', 'G5', 'G5', 'D6']\n",
            "Time for epoch 12 is 0.8155357837677002 sec\n",
            "['G4', 'G6', '10.0', 'F#6', 'G5', '9.11.2.5', 'G4', 'G4', '0.4', 'G5', 'G6', 'G5', 'B-4', 'G5', 'G#2', '10.1', '0.2.5', 'G6', 'F#5', 'G6', '1.3.7', '10.2.3', '10.0.5', 'B1', '11.2', 'G#6', 'G4', '1.2.4.6.8.10', '5.7', '0.2.5', 'A4', 'G6', 'G6', '8.9', 'G6', 'G6', 'G6', 'G#1', 'G5', 'G6', 'G#3', '0.5', 'G6', 'G6', '0.3', 'G6', 'G5', 'G4', 'G#5', 'G#6', 'G6', '2.5.9', '4.5.9', 'G4', '0.2', 'G6', '0.4.5', 'G3', 'G4', 'G6', 'A3', 'G4', '9.10.2.4', '4.7.9', 'F#1', '0.1', '0.3.5', '0', 'G1', '1.4.8', 'G1', '2.5', 'G5', '6.9.0', '0.3.5', 'G6', 'G1', 'G1', '0.3.6', '0.2', 'G#1', '0.2', '0.2.4.7', 'G6', '0.4.5', '9.0.2', 'G6', '10.1.4.6', '9.11.2.5', 'G6', '0.3.7', 'G5', '11.2.4.7', '8.10.1', 'B-3', 'F1', 'F#2', 'G5', '11.1', '10.1.5']\n",
            "Time for epoch 13 is 0.8389811515808105 sec\n",
            "['F2', 'G3', 'G#3', '6.7.11', '8.11', '11.4', 'G4', 'G6', '1.2', 'G5', 'G3', 'G5', 'G6', 'G6', '2.5.7.10', '1.5', 'F5', 'G6', 'G1', 'G6', 'F1', '5.10', 'A6', '1.2.6', 'G1', 'G4', 'G6', 'F3', 'G#6', '6.10.1', '5.10', 'G6', 'G6', '7.11.0', 'G6', '3.7', 'G6', '8.11.3', 'G#3', 'G6', 'C#5', 'C#2', 'G6', 'G6', '4.6', 'F#3', 'G5', 'G5', 'G4', 'G6', 'G6', '9.11.4', 'G5', '4.5.7.11', '3.5.7.10', 'G3', 'G2', 'G4', 'G1', 'G6', 'F2', 'G2', 'G3', 'B-3', 'G3', 'F#2', '0.2.7', 'F1', '9.0', 'F#4', '6.8', 'G#4', 'D2', '1.3.7', '1.4.6', 'G6', '4.5', '0.2.7', 'E3', '10.0', 'G#3', '3.9', '9.1.4', 'G3', 'G#6', 'G#5', 'G3', '11.0.4.7', '3.7.10', 'G6', '6.9.1', 'G4', '0', 'G3', 'F5', 'G1', 'G3', 'G6', '0.3.6.9', '11.1.6']\n",
            "Time for epoch 14 is 0.8325481414794922 sec\n",
            "['1.2.4.6.8.10', '2.8', 'G2', 'B1', '10.2.5', '10.0.5', 'G5', 'G6', 'F#5', 'G#1', 'E3', 'G#4', 'G6', 'G6', '11.2', '2.4.9', 'G4', 'G6', 'G1', 'G6', 'G4', '6.9.11.2', 'C4', '11.2.4', 'G5', 'F#2', 'G3', 'G5', 'E-5', 'G1', '6.8', 'G6', 'G6', 'F4', 'G3', '0.2.5', 'G5', '1.5.9', 'C4', 'G6', 'E5', 'F5', 'G6', 'G2', 'G#5', '10.0.3', '0.4.5', 'G6', 'G4', 'G6', 'G6', '0.3.7', 'G6', 'E1', 'E1', '11.2.5', 'G6', 'F#6', 'G#5', 'G6', 'G4', 'G5', 'G5', 'D4', 'G4', 'G5', '0.3.6', 'G5', 'C1', 'G#6', 'F6', 'G5', 'G#6', 'C#2', '6.10.1', 'G6', '4.5.9', '0.3.7', 'F#6', 'G#4', 'F#5', 'G4', 'G3', '10.0', 'G5', 'G2', '10.0.5', 'E-2', '6.9.1', 'G6', '9.1.4', 'C#4', '0.1', 'G#6', 'F5', 'E-2', 'G4', 'G6', '0.3.6', '9.11.2']\n",
            "Time for epoch 15 is 0.8413534164428711 sec\n",
            "['C#6', '11.1.5', 'G3', 'G#1', 'G2', 'D4', 'G5', 'F6', 'G5', '5.10', 'B-1', '7.10.1.3', 'G6', 'G6', '8.9.1.4', 'G#4', 'G6', 'G6', 'G#2', 'G6', 'G6', 'B-5', 'F#2', 'G#3', 'G3', '2.7', 'G#1', 'G6', '6.10.1', 'G5', '4.8', 'G5', 'G6', 'G#4', '3.9', '5.8.10', '1.2.4.6.8.10', '0.3.6.9', '1.3', 'G6', 'E4', 'G4', 'G6', '1.3', 'G#2', '9.0.4', '0.3.5', 'G5', 'G5', 'G6', 'G6', '10.1.4.6', 'G6', 'G5', 'G#3', '0.4', 'G4', '0.2', 'G#5', 'G6', 'G5', 'G6', 'G5', '5.8.11', 'G4', 'G6', 'A1', 'G4', 'F#5', 'D4', 'G4', 'G#6', 'G6', 'G#2', 'B-3', 'G6', 'G#2', 'G1', 'G#3', 'G#5', '1.3.7', 'G5', 'G6', '7.0', 'G4', 'G2', '1.4', 'F4', 'G#1', 'F2', 'G4', '10.1', 'E-1', 'G#2', 'G1', '0.5', 'G5', 'G5', 'F#4', 'E-4']\n",
            "Time for epoch 16 is 0.8272914886474609 sec\n",
            "['G1', '9.11.1', 'G5', 'G5', 'G5', 'G#6', 'G4', '9.11.2', 'C#3', '11.0.4.7', 'E5', '10.1.5', 'G6', 'G6', 'F1', 'G2', 'G5', 'G4', '4.7', 'G6', 'F3', 'G1', 'G4', 'G4', '8.9.2', 'E6', 'E-3', 'G6', 'G5', 'G5', 'E5', 'G2', 'G5', 'E-4', 'G#2', 'G6', '11.1.5', 'E2', 'F#1', 'G6', 'G#3', 'G5', 'G6', 'G#5', 'G#5', 'D3', 'F2', 'F4', 'G6', 'G4', 'G6', 'G#5', 'G6', 'G6', '8.0', '4.7.11', '2', '0.2.5', '2.3.7', 'G5', 'G5', 'G5', '6.7.11', 'C1', 'G2', 'G5', 'G#6', 'F5', 'G5', '1.6', 'G6', 'G4', 'G5', 'G4', 'G2', 'G5', 'E-3', 'G5', 'G#2', 'D5', '1', 'G6', 'G5', 'G#2', 'G2', 'G#4', 'F2', 'G#5', 'G1', 'F#6', 'G6', '2.4', 'G4', 'B6', 'G#3', '1.2', 'G5', 'G2', 'G2', 'F#3']\n",
            "Time for epoch 17 is 0.788541316986084 sec\n",
            "['G4', 'G5', 'G5', 'G6', 'G1', 'G3', 'D1', 'F1', '10', 'D4', 'G4', 'C#5', 'G6', 'G5', 'F#5', 'G4', '3', 'D6', '3.6.9.11', 'G6', '2.4', 'G6', 'G3', 'G5', 'G#2', 'G4', 'B1', 'G6', 'G6', 'G#3', 'G3', '0.4.7', 'G4', '7.9.0', 'A1', 'G6', 'G#1', 'G5', 'G2', 'G6', 'F#6', 'G5', 'G5', 'G4', 'G4', 'F#5', 'G5', '1.2', 'G6', 'E4', 'G4', 'G1', 'G5', 'G5', '6.8.11.2', 'G2', '0.3.7', 'C1', '11.2.4.6', '2.6.9', 'G3', 'G5', '11.2.4.7', 'F1', '3.7.9', 'G4', 'G#6', 'G#3', 'G#5', '4.9', 'G6', 'E3', 'G#3', 'G3', 'G5', '4.8.9', '7.9.0', 'G2', 'G#3', '9.10.2.4', 'E3', 'G6', 'G2', 'B5', '0.3.7', '3.4', 'G#6', 'F3', 'G3', 'E5', 'G6', '9.0.4', 'G4', '1.4.7', 'G#5', '8.0.3', 'G2', '9.0.4', 'G2', 'C2']\n",
            "Time for epoch 18 is 0.8089125156402588 sec\n",
            "['F#6', 'G6', 'G4', 'G#4', 'E2', 'G#5', '11.0.5', 'F2', 'F#5', 'F5', 'G4', 'F2', 'G6', 'G5', '8.11.1', 'G4', '1.3', 'B2', 'F4', 'G6', 'F3', 'G6', 'G4', 'G5', 'G4', 'G6', '6.8', 'G5', 'G6', '8.0', 'G5', '0.3.6', 'G#2', 'G2', '11.0.5', 'G6', 'G5', 'G5', 'G3', 'G1', 'F#6', 'G3', 'G#5', 'G#6', 'G5', 'G2', 'G6', '0.4.7', 'G6', '7.10.1', 'G#2', 'G3', 'G#6', '3', 'E2', 'G#6', '4.8.9', 'G#2', 'E6', '4.5.7.11', 'C3', 'G5', 'F#6', 'G2', 'C4', 'F4', 'G2', 'G1', 'B-6', 'G2', 'G5', '4.5.7.11', '0.2.7', 'D3', 'G6', '0.3.6.9', '9.0.2.5', 'F1', 'G#1', '5.8.0', 'G1', 'G4', 'F6', '2.6.7.9', '0.2.5', 'E-1', 'G#6', '9.2.3', 'G4', 'D3', 'G6', '9.2.3', 'G4', '4.6.10', 'G4', 'G#3', 'G5', '6.10', 'G#3', 'F#6']\n",
            "Time for epoch 19 is 0.8098642826080322 sec\n",
            "['10.0.3', 'G6', 'G2', 'A0', 'B0', 'G2', 'F#5', 'C1', 'G2', 'C#3', 'G#4', 'E-4', 'G5', '10.1.5', '7.9.1', 'G2', 'F6', 'G4', 'G1', 'G5', 'G#6', 'G5', 'G1', 'G3', 'G4', 'G5', 'G#3', '3.6.8', 'G6', '1.4.6.9', 'G3', '6.10.0', 'G#3', 'G6', 'G1', 'G5', 'G5', 'G4', 'G5', '7', 'G3', 'G#6', 'E2', 'G#6', 'G6', 'G6', 'G5', '6.9.1', 'G6', '9.2', 'G#5', 'G5', 'G4', 'C5', 'E6', 'G#5', 'G5', 'G2', 'G1', 'G3', '9.0.2.5', 'G5', 'G4', 'G3', 'G2', 'G1', 'G2', 'F1', '7.9.0', 'G5', 'G5', 'G#4', '0.3', 'D3', 'G6', '2.4.7', 'A3', '10.2.4', 'D7', 'E6', 'G2', 'D3', '1.4', '7.0', 'B2', 'G3', 'F5', 'E-4', 'G1', '3', 'G#4', 'C3', 'G5', 'G#6', 'C6', 'G#6', 'G4', 'E4', 'B3', 'G#4']\n",
            "Time for epoch 20 is 0.8019700050354004 sec\n",
            "['G#1', 'G5', 'G#3', 'E-2', 'E5', 'G4', 'G5', 'G4', 'G4', 'D7', '7.0', 'F4', 'B3', '0.2.5', 'G2', 'G2', 'G5', 'G4', 'G2', '1.2.4.6.8.10', 'G#5', '9.0.3.5', '6.8', 'G3', 'G2', 'G5', 'G5', '6.11', 'G6', '9.1', 'F#3', 'G1', '7.10.2', 'G5', 'G6', 'G1', 'F4', 'F1', '8.9.1', 'D7', 'F#1', '8.10.1', '6.9.1', 'A0', 'G6', 'G6', 'G3', 'G#6', 'G6', 'E6', '9.11.2', 'G5', 'F1', 'G2', '6.9.0', 'E5', 'G6', 'G5', 'G3', 'G6', 'E2', 'G#3', 'G5', 'G3', 'F5', 'G#6', 'G#1', '11.3.6', '2.5.7', 'G4', '3.5', 'G#3', 'F#4', '6.9', 'G6', 'C#3', '8', 'B6', '1.4.8', 'A1', 'G3', '10.0', '0.2.7', 'G#5', 'G3', 'G6', '8.11', '8.10.3', 'D2', 'B0', '9.0.4', 'D6', 'G6', 'G4', 'A0', 'G3', 'G#2', 'F6', 'F#4', '7.8']\n",
            "Time for epoch 21 is 0.8121364116668701 sec\n",
            "['G1', 'G#3', '5.10', 'F#4', 'E-3', 'G2', 'G5', 'G6', 'F#2', '6.9', 'C#4', 'G#5', '11.0', '0.2.5', 'G1', 'G4', 'G5', 'F3', 'G5', '1.4.6.9', 'G3', '0.1', '9.0.2', '9.0', 'G3', 'G5', 'G6', 'G2', 'G6', 'F4', '7.10', 'G6', 'G#6', 'G5', 'G6', 'G6', 'G1', 'G5', 'F2', 'C#4', 'G3', 'F2', 'G3', 'G1', 'E3', 'G6', '9.1.4', 'G5', 'G6', 'C4', '9.11.4', 'G3', '0.3.7', '6', '8', '3', 'G6', 'G2', 'G3', 'G5', '6.8', '1.6', 'G5', '11.1.5', '1.6', '9.11.4', 'C#2', 'F#5', 'B-5', 'G5', '7.8', '4.8', 'G#6', 'F3', 'G6', 'G3', 'G3', 'C2', 'F#5', '10.1', 'E5', 'F6', '2.6.10', 'G5', 'G3', 'G6', '7.10.2', '6.9', 'B-2', 'G2', '1.3.8', '8.10', 'G6', 'G6', '1.3.7', 'G#6', '1.2.6', 'G#4', '8.1', '0.3.6.9']\n",
            "Time for epoch 22 is 0.7979512214660645 sec\n",
            "['F3', '0.3.7', 'E-1', 'F#3', 'G5', '2.5.8', 'F#2', 'G6', 'C7', 'E2', 'F#4', 'G4', 'F2', 'D4', 'G3', 'D7', 'G5', 'F4', 'G6', 'A1', 'G4', '0.2.7', 'G1', 'G3', 'G#2', 'F4', 'G6', 'G2', 'G4', 'G5', 'B-1', 'G6', 'G5', 'C#5', 'G6', 'G5', 'G#6', 'G6', 'G6', '1.2.6', 'G6', 'G#4', 'F6', 'F6', '10.1', 'G4', '6.7.11', 'G6', 'G5', 'F5', 'D7', 'G5', 'D3', '8.11.1', 'F6', '6.11', 'G6', '11.2.4.6', '5.11', 'C#4', '11.2.4', 'C#4', 'G2', '0.4.5', '0.3', 'F1', 'E-3', 'G#1', 'G3', 'G5', 'D6', '1.4.6', 'G#4', '4.9', 'G6', 'G5', 'G1', 'E1', 'G3', 'A3', '9.1.4', 'G5', 'G2', 'G6', 'G2', 'G6', 'F#2', 'F#4', 'G1', 'G5', 'F1', 'E-4', 'G5', 'G6', '9', 'G#4', '6.9.11.2', '1.4.8', 'E-3', 'E-1']\n",
            "Time for epoch 23 is 0.8350801467895508 sec\n",
            "['C2', '0.2', '1.2.6', 'E1', 'F4', 'D7', 'E5', 'G6', '11.2.5', 'G4', 'G1', 'G6', 'F5', 'G#1', 'G5', '0.2.7', 'G5', 'G2', 'G6', '9.11.1', '8.9', 'G#3', 'G4', 'G4', '1.4.7', '4.7.11', 'G6', 'G3', '0.6', 'G4', 'G#2', 'G6', 'B2', '8.9.2', 'G6', 'G3', '8.9.1.3', 'G4', 'G6', '11.0.4.7', 'G#6', 'G1', 'G#4', 'C5', 'B-1', '4.7.9.0', 'C#6', 'G6', '1.4.8', '9.0.3.5', 'G#5', 'G3', 'G5', 'G3', 'F4', 'G4', 'G6', 'B5', '5.7.0', '3.8', 'G5', 'G3', 'D3', 'F5', 'B-4', 'G2', 'F3', 'G#5', 'G4', 'E5', '10.1', 'C6', 'G5', 'B1', '5.9', 'G3', '7.10', 'F#3', 'G4', 'G#6', '5.9.11', 'G6', 'G5', 'G6', 'D2', 'G6', '2.6.7.9', 'G2', 'D7', 'G5', 'G#4', 'G#3', 'G3', 'G2', 'G3', '2.4.8', '9.11.1', '0.5', 'E2', 'D4']\n",
            "Time for epoch 24 is 0.8021876811981201 sec\n",
            "['E-1', 'A6', 'E5', 'D5', '4', 'E-4', 'G1', 'G5', 'F3', 'G4', 'G6', 'G6', 'G5', 'G#6', 'F6', '1.5', 'G4', 'G6', 'G6', 'G4', 'F2', 'G5', 'G6', 'G6', 'G1', 'G2', 'G6', 'C2', '1.6', 'G#6', 'F3', 'G6', 'C#6', 'G3', 'G6', '11.2.5', '9.11.2.5', '4.5', 'G6', 'G5', 'G#3', 'F#1', 'G#5', 'G#5', 'G4', 'D3', '1.4.7', 'G5', '0.3.5', 'F1', 'G5', '4.5.7.11', 'G4', 'G#6', 'D7', 'G4', 'G6', 'A0', 'G#5', 'F3', 'G5', '7.10.1.3', '1.5.9', 'G#6', 'G#1', '8.0.3', '9.0.4', 'G#5', 'G#6', '2.3.7.10', 'F#5', 'G#6', 'G3', 'A6', '0.2.4.7', 'G1', 'F1', '8.0.3', 'G5', 'G#1', 'D2', 'G#6', 'G1', 'F3', 'C#5', 'G6', 'F#3', 'G5', '6.8.10', 'G6', 'G#5', 'G5', 'C5', 'F#3', 'G3', '4.6.9.11', 'E3', 'D6', '11.2.5', 'F#5']\n",
            "Time for epoch 25 is 0.8526251316070557 sec\n",
            "['G2', 'G4', 'G#2', '5', 'G2', '0.3.6', 'G5', 'G4', 'B2', 'G5', 'G6', 'G2', 'G6', 'G#3', '0.3.7', 'G4', 'E-2', 'G3', 'G6', 'G6', 'F#1', 'G6', 'G6', 'G6', 'G6', 'G5', 'G6', 'C6', 'F#2', '8.10.3', '6.9.11.2', 'G6', 'G3', 'F6', '2.4.8', '9', 'G5', 'F5', 'G1', 'G6', 'F5', 'G3', 'G2', 'G4', 'G5', 'G#5', '9.11.2', 'G6', 'A3', 'G1', 'G6', '10.2.4', 'G2', 'G1', '11.2.5.7', 'G3', 'G6', '3.5.7.10', 'G3', 'G#3', 'G5', '7.10.1.3', '4.7', 'G#1', 'G4', 'E2', '1.5.8', 'G5', '7.9.11.2', 'D2', 'G5', 'G#3', '11.3', 'F#6', '0.3.6', 'F#2', 'G4', 'F3', 'G5', 'F#2', '2.8', '9', 'F5', '1.4.6.9', 'F3', 'G6', 'G#3', 'G#3', 'F#5', 'G6', 'F4', 'G6', '0.3.7', '1.3', 'C#3', 'F4', 'G2', 'G#5', '3.7', '2.6.9']\n",
            "Time for epoch 26 is 0.8130812644958496 sec\n",
            "['G4', 'G6', 'G#6', 'G4', 'G6', '9.0.2.5', 'G5', '10.2.3', 'E6', 'G6', 'G6', 'G#6', 'G6', 'G#4', 'E5', 'G5', '2.5.7', '7.9', '10', 'G2', 'F#6', 'G5', 'G4', 'D3', 'G6', 'G6', 'F4', 'G3', 'G6', '10.0.4', '1.4.8', 'G6', 'C3', 'C#5', '0.3.6.9', 'G#6', 'G1', '6.9.1', '10.11', 'G6', '9.0', 'G1', 'E3', 'F#2', 'G6', 'G6', 'G4', 'G6', 'G6', 'G#1', 'G5', 'A1', '5.7', 'G6', '0.3.7', 'G5', 'G4', 'F4', 'G5', 'F4', 'G5', '6.8.11.2', 'G1', 'F6', 'G4', 'B-2', 'A5', 'G1', '6.8.11.2', '5.7.0', 'G5', 'F6', '0.4.7', 'G#4', 'G#2', '0.3.7', 'G5', 'G4', '9.0.2.5', 'G#6', '7.9', '1.3', '5.8.0', 'E-4', 'F5', 'G2', 'G4', '0.3.6', 'B1', 'G6', 'E-5', 'G6', '9.11.2', '11.2.4.6', 'E-2', 'G2', 'G2', 'G#6', 'G#3', 'E6']\n",
            "Time for epoch 27 is 0.8051719665527344 sec\n",
            "['G2', 'G5', 'B-2', 'G6', 'G6', 'E2', '11.4', '1.5.8', '2.6.7.9', 'G6', 'G3', '1.5', '9.1', '2.6.9', 'G1', 'G6', 'F#5', '2.5', '0.6', 'C3', 'A0', '2.4', '0.4', '0.2', 'G4', 'G#6', '0.1', 'G6', 'G5', 'F6', 'G2', 'G5', 'C#4', 'B1', 'G5', 'F1', 'G4', 'G4', 'G5', 'G6', 'G#6', 'G5', 'G4', 'F3', 'G6', 'G6', 'G6', 'G6', 'G5', '9.10.2.4', 'G6', '5.9.0', '9.11.0.4', 'G6', 'G#6', 'G5', '0.4.7', 'F#4', 'G5', '9', 'G6', 'G#1', 'G6', 'F#2', 'G3', 'E-5', 'G4', 'G#1', 'F4', 'G1', 'F#2', 'G#5', 'G#4', 'G6', 'G6', '1.3.7', 'G6', 'G6', '0.2.7', 'G5', 'D3', 'G#3', 'E-1', 'G#5', 'G#2', '1.3.6', 'G6', '0.2.5', '10.2.5', '1.2.4.6.8.10', '11.0.4.7', 'F#6', 'G2', 'E4', 'G#5', 'G1', 'C4', 'G6', 'G#3', 'G5']\n",
            "Time for epoch 28 is 0.8565645217895508 sec\n",
            "['G5', 'G5', 'G5', 'G5', 'G6', 'G1', '4.6.11', 'G#3', 'G5', 'G6', 'G1', 'G5', 'G#4', 'G5', 'F4', 'G6', 'G6', 'G#6', 'G1', 'G6', '10.2.4', 'G#3', 'G#2', 'G#6', 'G6', 'G6', '0.6', 'G5', 'G6', 'G4', 'G1', '1.4.6.9', 'E-5', 'F#5', 'G5', '0.4.5', 'G6', 'G#6', 'F6', 'G6', 'E-4', '5.9.11', 'C5', 'G5', 'F2', 'B0', 'G6', '8.9.2', 'G4', 'G4', 'G#4', 'F1', 'G1', '0.3.6', 'G6', 'G1', '10.2.5', '2.4.6.9.11', '2.4.8', '0.3.6.9', 'F3', 'F#2', '8.9.1.4', '1', 'D6', '11.1.4', 'G5', '2.4.6.9.11', '6.9.0.2', 'G1', '0.2.4.7', 'G4', 'G#6', 'G2', 'G5', 'G#2', 'G3', '4', 'B1', 'F6', 'G#6', 'D5', 'G#6', 'E5', 'G5', '0.3.5', 'G4', 'F#6', '10.3', '0.4.5', 'E-5', '1.5.9', 'G2', 'G5', 'G2', '4.8.9', 'G4', 'G6', 'D4', 'G#5']\n",
            "Time for epoch 29 is 0.8119852542877197 sec\n",
            "['0.4', 'G2', '7.10.0', '10.0.5', '10.2.4', 'G#6', 'C5', 'G3', 'G#5', '4.7.9.0', '0.3.5', 'B3', '7.11.2', 'F#3', '7.10.1', 'G6', 'G3', 'G6', 'E1', 'G6', '1.3.6', 'E2', 'G5', 'G2', 'G6', 'G6', '1.5.8', 'G6', 'G6', 'G2', 'F#3', '0.4.7', 'G3', 'G6', 'G6', '5.7.0', 'G6', 'G3', 'G4', 'G6', 'G4', 'G5', 'G3', 'G6', 'G2', 'G5', 'G2', '1.5.9', 'G6', 'G1', 'G5', 'G#2', 'G6', '3.7', 'G4', 'G4', 'F5', 'F4', 'F5', 'E-2', 'G6', 'G#4', 'G2', 'F#5', '1.4.8', 'G4', 'F1', 'G#3', 'F1', 'G5', '1.5', 'G#6', 'G4', 'G5', 'G#4', 'G#4', '8.9.1.4', 'E6', 'G3', 'F#4', 'G5', 'G#3', 'G2', 'F1', 'G#4', '11', '5.9.11', 'G#5', 'D4', '11.3', '1.2', '0.2.5', 'F3', 'G5', '6.9.0.2', '0.3.7', 'F1', 'G6', '0.3.6.9', '1.2.4.6.8.10']\n",
            "Time for epoch 30 is 0.792773962020874 sec\n",
            "['7.10.1', 'G5', '2.5', 'E-6', 'G1', 'G3', 'G3', 'G4', 'G#5', '3.8', 'E-6', 'F#6', 'F4', 'A4', 'G1', 'G6', '6.7.11.2', 'G6', '4.7.9.0', 'G5', 'F1', 'G4', 'G5', 'G6', 'G5', 'G4', 'F5', 'F3', 'G5', '10.3', '1.4', '1.5', 'G4', 'G3', 'G6', 'F3', 'G6', 'G#4', 'G3', 'G6', 'G#4', 'G6', 'F#4', 'G6', 'E-3', 'G5', 'G5', '1.3.7', 'G6', 'G5', 'G2', 'E6', 'G3', 'G#6', 'G3', 'G#6', 'E2', 'G#4', 'G#6', 'G2', 'G6', 'G5', 'G5', 'G#2', '0.3', 'G5', 'E4', '3.9', 'E-2', 'G5', 'G#3', '11', 'G3', '0.4', '1.2', '7.0', '6.10.1', 'F4', 'G5', '0.3.5', 'G6', 'G#6', 'G1', 'G4', '0.3.6', 'G2', 'G1', 'G#6', 'G6', 'G3', 'E-4', '11.2.5', 'G#5', 'G6', 'G5', 'F#6', 'G4', 'G6', 'F6', 'E1']\n",
            "Time for epoch 31 is 0.7970879077911377 sec\n",
            "['D6', 'G4', 'C1', 'G5', 'G5', 'G#1', 'G#3', 'G5', 'G#2', 'G#2', 'G1', 'G#6', 'E4', '8.11', 'G5', 'G6', '1', 'G6', '2.4.7', 'B6', 'G2', 'G3', 'G3', 'G6', 'G1', '1.3.8', 'G4', '0.3.6', 'E5', '1.3.7', 'F#2', 'F#4', 'G5', 'G#5', 'G6', 'G#5', 'G6', 'F#2', 'B-3', 'G#4', 'G#3', 'G#5', 'G#5', 'G6', '10.0.5', 'G5', 'G5', 'F3', 'G6', 'G#6', 'G4', 'G#5', 'F1', 'G3', 'C3', '0.4', '10.1', 'E-2', '8.10.1', 'G5', 'C#6', 'G5', 'G#3', 'A3', 'C2', 'G4', 'G#6', '7.10.1.3', 'B-6', 'G6', 'G#6', 'F1', 'C#1', '0.3.7', 'E-3', 'C#1', 'E4', '2.5.7', 'G5', '8.9.1', 'G5', 'G4', 'B-1', 'G5', '1.4.7', 'G4', 'G4', 'G2', 'G5', 'G4', 'C#6', '7.10.0', '8.9.1', 'G5', 'G#4', 'G1', 'E4', 'G6', 'G2', 'G2']\n",
            "Time for epoch 32 is 0.8184707164764404 sec\n",
            "['E-4', 'G#2', 'F2', 'G5', 'G4', 'A4', '8.11.1', 'G1', 'G#2', 'G#3', 'E-1', 'C7', '9.11.2', '9', 'G4', 'G6', 'F4', 'G5', 'G#3', '2.6.10', 'G6', 'F#3', 'G#3', 'G5', 'C#5', '10.2', 'G5', '0.2.5', '1.5.9', '9.11.2', 'G2', 'G5', 'G6', 'G6', 'G6', 'G4', 'G3', 'D4', '1.3', '0.4.7', 'G#4', '9.0.4', 'G3', 'G6', 'C2', '9.10.2.4', '9.11', 'G5', 'G#2', '1.3.7', 'G6', 'G5', 'G#4', 'G1', '10.11', '0.2.7', 'C1', '0.5', 'E1', 'G6', '8.9.1.3', 'F#6', 'B-4', 'C#6', 'G#6', 'G3', 'G5', 'F6', 'G#5', 'G6', 'G5', 'F6', 'E3', 'F6', 'G#4', 'G1', 'G#5', 'G#4', 'G4', 'G#5', '9.11.2.5', 'G4', '1', 'G6', '10.1.3', 'G4', 'E1', 'F5', 'G2', 'F#1', 'A4', 'E-2', 'G#1', 'G#3', '2.5.9', 'G2', '0.3.5', 'G5', 'G2', 'G3']\n",
            "Time for epoch 33 is 0.8313231468200684 sec\n",
            "['G#6', 'A4', 'G#5', '8.9', '5', 'A1', 'E4', '11.1.4', 'E-6', 'C5', 'G#5', 'B3', '9.11.0.4', 'B-5', 'G#4', 'E-3', 'D7', 'F6', 'G3', '9.0.4', 'G6', 'B-4', 'E-1', 'F1', 'G#6', '9.0', 'G6', 'C#3', '2.4.8', '4.8.9', 'G2', 'G6', 'G6', 'G5', 'G5', 'G5', '2.6.10', '3.4.8', '5.8.11', '8.0.3', 'G4', 'A1', 'D7', 'G4', '8.10', '2.4.6.9.11', '1.4.7', 'G5', 'A3', '0.4', '5.8.10', 'G4', '5.7.0', 'G1', 'F2', 'A4', '9.11.2', '2.8', 'G#2', 'G6', 'G#3', 'G#3', 'F1', 'E-5', 'G2', 'F6', 'G#1', 'F1', 'G#2', 'G#4', 'G4', '5.9.0', 'D7', 'G1', 'F#1', 'G3', '1.6', 'G#5', 'G4', '8.9.2', '11.0.4.7', 'G#5', '11.2.5.7', 'E4', '7', 'G5', '1.3.8', '4.5.7.11', 'F#5', 'F3', 'D4', 'B-6', '4.7.9', '3.6.9.11', '8.1', 'G3', '0.3.6.9', 'B3', 'G1', 'E3']\n",
            "Time for epoch 34 is 0.8449599742889404 sec\n",
            "['G6', '1.4.7.9', 'F5', 'C6', 'A6', 'E3', 'G6', '10.1', 'B6', '3.9', 'G5', 'C#4', '9.11.4', 'G#6', '9.11.0.4', '7', '8.0.3', 'B1', 'G5', '7.11', 'G#6', 'D7', 'E5', '8.11', '2.4.6.9.11', 'G#4', 'G5', 'G4', 'G#1', '1', 'F5', 'G5', 'G5', 'G#4', '6.8.10', 'G#6', 'F4', 'F4', 'G3', 'G3', 'G#5', 'F#6', 'A3', 'C3', 'G4', 'A4', 'E-1', 'G6', 'G#3', '4.8', '11', 'G4', '11.2.5.7', 'G2', 'G4', 'G2', '8.9.1.3', 'G#6', 'F6', 'G4', 'B3', 'G1', '9.11.2.5', 'E3', 'G#6', 'D4', '5.8', '7.10.1', '9.0.4', '1.3.6', 'G5', '5.9.11', '2.4.8', 'G#6', '1.4.6', 'G#5', '2.7', 'G5', '6.9.1', '11.0.5', 'G#6', '10.2.3', 'F2', '11.0', 'F#1', 'G3', 'F6', 'E-4', 'F6', 'G4', 'G3', 'F1', '6.7', 'G1', 'G4', 'F#1', 'G2', '0.4.7', 'G#5', '11.4']\n",
            "Time for epoch 35 is 0.795154333114624 sec\n",
            "['G6', '1.3', 'C#5', 'G5', 'G#1', '7.9.2', 'G5', 'G2', 'E-3', 'G#2', 'G5', 'C2', 'F3', 'G3', '10.1.4.6', 'G#6', 'F3', 'G4', 'G5', '8.9', '9.0.2.5', '3.4.8', 'F#6', '9.0.2', 'F5', 'G5', 'G3', 'G5', 'G5', 'C1', 'G#2', '11.0', 'E5', 'B2', '9.0.2', 'F4', 'G3', 'G5', 'G5', 'G2', 'G#5', 'G4', 'G#4', '2.5', 'G5', 'G#2', '8.10', 'G6', '7.9.1', 'G3', 'G3', 'G#3', '9.2.3', 'E2', 'G2', 'G#2', '9.11.0.4', 'F6', '4.7', '6.8.11.2', '5.9', '7.0', '2.6', 'D7', '9.2', 'E-6', 'F4', 'C#5', '10.0.3', '5.8', 'G6', 'G2', '6', 'G#4', 'D7', '10.1.5', 'G#5', 'G1', '0.2', '9.11', 'F3', 'E2', 'F6', 'C1', 'F4', '11.2.4.6', 'G1', 'G#5', '6.10.0', 'G5', 'G3', 'F5', '2.8', 'G1', 'G#6', 'A6', 'G3', 'C5', '3', '11.2']\n",
            "Time for epoch 36 is 0.8175113201141357 sec\n",
            "['G5', 'C2', '1.5', 'G5', '7.9.11.2', 'F#1', 'F#3', 'G2', '7.8', 'G5', 'G4', 'G#3', 'G3', 'G2', 'E-4', '3.4.8.10', 'G2', 'G#3', 'G3', 'G4', '4.5.9.0', 'C#3', 'G#4', 'F1', 'G#1', 'G5', 'G4', 'G5', 'F#4', 'F6', '3.6.8', '0.3.7', '0.3.6.9', 'D1', '8.11', '0.3.6.9', 'G4', 'G4', 'G6', 'B-2', '8.11.3', 'G#5', 'F#3', '10.0.5', 'G#6', 'G#3', 'G3', 'G6', '8.1', 'G5', 'F2', '0.4', 'G4', '2.3.7.10', 'G5', 'G4', 'F3', 'G3', '0.3.6', '11.2.6', 'G#5', 'G#3', '9.11.1', 'D7', '11.2.6', 'F4', 'G#5', '7.10.1', 'E5', 'G1', 'G4', 'G5', 'F6', 'F#4', 'G1', '1.4.7.9', 'G3', '1.4.6', '1.5.9', '4.5', 'G2', 'F#2', '8.0', '7.10', '11', '8.11.1', 'G4', '5.10', 'B6', 'G5', 'E5', 'D7', 'D3', '5.7.0', 'F#3', 'F#2', 'G3', 'C5', '0.3.5', '2.4.9']\n",
            "Time for epoch 37 is 0.7971341609954834 sec\n",
            "['6.9.11.2', 'G1', '10', 'G5', '3.7.9', 'E-2', '1.4.7.9', 'F1', '6.7.11.2', 'G2', 'G#5', 'C5', 'G2', 'E6', 'G4', '10.3', 'G4', 'F6', 'B-5', 'G4', 'C#3', '4.6.9.11', 'D5', 'F#3', 'G#6', 'G5', '9.0', 'G6', 'G#1', 'G2', '6.9.11.2', 'C7', '0.2.7', 'G#2', 'G#3', '1.7', 'G#3', 'G5', 'G6', 'G2', 'G#2', 'B1', 'G3', 'G#5', 'E6', 'G5', 'G#6', 'G6', 'G#5', 'G6', 'G1', '0.3.5', 'G6', 'F4', 'G#1', 'G3', 'G3', 'G1', '10.2.5', 'F3', 'G4', 'F5', 'F4', '1.2.6', 'B6', 'G3', 'G3', 'A0', 'G#6', 'G3', '11.0', 'G5', 'F#5', 'D1', 'G5', '4.6', 'G4', '1.2.4.6.8.10', 'F5', 'G2', 'G2', 'G5', '1.4.8', 'G3', 'E-4', 'A5', 'F6', 'F#4', '4.9.10', 'G3', '3.5.7', 'D2', 'G3', '0.3.6.9', '0.3.5', 'F#5', 'G3', 'G3', 'E-1', 'F2']\n",
            "Time for epoch 38 is 0.8039865493774414 sec\n",
            "['B-2', 'G6', 'G#2', 'G3', 'G5', '1.3.8', 'G#5', '4.7.9.0', 'G6', 'G3', '4.7', 'G3', 'G5', 'E3', 'G1', 'G4', 'F5', '2', '6.9.0', 'G6', 'G2', 'E-1', 'G2', 'G#4', 'A4', 'G1', 'A0', 'G6', 'C#7', 'G1', '1.2.6', 'G4', 'E-2', 'F#1', 'F5', 'G#5', '6.8.10', 'G5', 'G#3', 'G6', 'G4', 'A0', 'G3', 'F6', 'B-1', 'G6', 'F1', 'G4', 'F1', 'G5', 'G#4', '5.9.11', 'G2', 'F#2', '0.5', '7.10', 'G6', '9.0.2', 'F1', 'D3', 'F4', 'G#3', 'G#3', '1.7', 'D4', 'G3', 'B-2', '1.4.8', 'C#6', 'G5', '0.5', 'F4', 'G#4', '1.4.6', 'G3', 'F#1', 'G1', 'G4', 'G#3', 'G2', '9.11.2', 'G6', 'G2', 'G6', 'G1', 'E5', '8.10', 'F1', 'D5', 'C#3', 'D1', '7.11.0', 'G6', 'G#5', 'B-1', '9.2.3', 'G5', 'G4', 'G3', '5.8.10']\n",
            "Time for epoch 39 is 0.8503649234771729 sec\n",
            "['2.4.6.9.11', 'G5', 'G2', '1.5.8', 'F#1', '11.1.4', 'G2', 'G#3', 'G6', '9.0.4', '1.4.8', 'G3', 'G6', '11.2.4.6', 'F2', 'G5', '9.0.3.5', '7.10.0', 'G#4', 'G6', 'G4', 'G4', 'G6', 'F3', 'G#6', '10.1.5', 'G3', 'G6', '1.7', 'G1', '0.3.6', 'G6', 'G6', 'D3', 'G1', 'G2', 'C#4', '9.0', '6.9.0.2', 'G5', 'G2', 'F3', 'E1', 'F6', '3.5.7', 'G3', '1.4.7', '1.4.8', 'G2', 'G#3', '9.2', 'G#1', 'G1', '2.4.9', '7.11', '1.3.8', 'G6', '6.9.0', 'G#2', 'F#2', 'G1', 'G3', '1.6', 'E3', '3.5.7.10', 'G1', '0.2', 'F4', '6.7', 'G6', '4.5.9', '9.0', 'F3', '5.8.0', 'F#2', 'G4', 'G3', 'G1', 'G3', 'G#2', 'F#2', 'G5', 'G5', 'G6', 'G3', 'F#6', '4.8.11', 'G1', 'F#4', '11.1.5', '6.9', '11.1.5', 'G2', 'G2', 'G#2', '6.8.1', 'G5', 'C3', 'G#2', '11.1.4']\n",
            "Time for epoch 40 is 0.797924280166626 sec\n",
            "['1.2.6', 'G6', 'G4', '1.5.8', 'E-2', 'G1', 'G#2', 'G#3', 'G6', 'D5', 'F#5', 'G3', 'G6', 'B1', 'F#5', 'G4', 'F#3', 'G6', 'G#6', 'G6', 'G6', 'G4', 'G6', 'G1', 'G4', 'G#6', 'G6', 'G4', 'G3', 'G#6', '6.8.1', 'G6', 'G6', 'G5', 'G4', 'G5', 'F#3', '0.2.7', '1.2.6', 'F5', 'F5', 'F6', 'F5', 'G6', 'C#2', 'G3', '0.4.5', '11', 'G5', '1.4.8', 'G3', 'G5', 'D5', '4.10', 'C#6', 'F#6', 'G6', '10.1', 'G2', 'E3', 'F#5', '7.10.0', '1.3.7', '2.5.8', '4.7.9', 'G#5', '0.2', 'F3', 'E4', 'G5', 'E-2', 'A0', '0.2.5', 'F#1', 'D7', 'G3', '8.10.3', '11.3.6', 'G5', '11.2.4.7', '7.8', '1.4.8', 'F#3', 'G1', 'G#6', 'G#4', 'F#1', 'G4', 'F#4', 'F4', 'C5', 'F#5', '4.6.11', 'G1', '3.7.10', 'B6', 'G2', '0.2.4.7', '1.5', '4.6.9.11']\n",
            "Time for epoch 41 is 0.8431487083435059 sec\n",
            "['2.5.7.10', 'G6', 'G#5', '1.4.6.9', '11.2.5', 'G1', '1.5.8', 'G#3', 'G5', 'G#4', 'G1', '11.2.4.7', 'G#4', '4.7.11', 'G1', '9.10.2.4', '1.5.8', 'G6', 'G#5', 'G6', 'G1', 'G6', 'G5', '4.6.9.11', '9.11.4', '4.8.9', 'G6', '1.4.7.9', 'G4', 'C2', 'G3', 'G6', 'G#1', 'G#5', 'G6', 'G#6', 'G6', '0.4.5', 'G#1', '0.2.7', 'G1', 'G3', 'C#6', 'G6', 'G#5', '2.6.9', 'G#1', '6.10.1', 'G5', '3.5', 'G5', 'G5', 'F5', 'G4', 'F3', 'G#4', 'G4', 'A1', 'G#3', '8.9.2', 'G#1', 'G1', '7', 'G#1', 'G#2', '0.6', '10.0', 'G5', 'F3', 'G6', 'F1', 'F#1', '0.3', 'E4', '1.2', 'G#3', '1.5', '9.1.4', 'G5', 'F#2', 'G#5', 'B-3', 'G#3', 'G#5', 'G#5', 'G4', 'G4', 'G4', 'G4', 'C4', 'G#4', 'G#4', '1.3', 'D4', 'C#3', 'G#3', '2', '10.0.4', 'E6', 'G#4']\n",
            "Time for epoch 42 is 0.8306515216827393 sec\n",
            "['11', 'G4', '0.3.5', '5.9', '1', 'G6', '2.6.9', '9.11.2', 'D3', 'E-5', '3.9', '0.2', '0.1', '0.2', 'G4', '0.4.5', 'C#1', 'G6', '7.9.11.2', '1.4', '0.6', 'E-6', '0.2.5', '1.4.7', '0.4.5', '9.10.2.4', 'G1', '1', 'G5', '2.5.8', 'G6', 'F2', 'G3', 'E1', 'G6', 'G4', 'G#1', '11.2.4.7', 'G3', '0.5', 'G2', 'G6', 'F#1', 'G6', 'G5', 'G4', 'E5', 'G3', '10.3', 'G1', 'G6', 'G5', '0.2.7', 'G6', 'G#5', 'G#3', '4.5.9', 'F2', 'G5', '6.11', 'G5', 'E4', 'G6', 'G4', 'G5', '1.3.6', 'F6', 'G4', 'G3', 'G3', '4.9', '10', 'F1', 'G#2', '6.8.11.2', '0.2', '4.10', 'G4', '8', 'G5', '1.3.8', 'G#5', 'G#2', 'G5', 'F4', 'G3', 'C1', 'G6', '1.3.8', '1.2.6', 'F#5', '11.2.4.6', 'F#4', '2.4.8', 'B-1', '11.2', '0.2.5', '6.8.11.2', 'G2', 'G2']\n",
            "Time for epoch 43 is 0.811255931854248 sec\n",
            "['G2', 'G2', 'F#3', 'G1', 'F6', 'G5', 'E2', 'C6', '3.7.10', '1.4', 'F#2', '1.3.8', '0.1', '0.3.7', 'F3', 'G#6', 'E-2', 'G6', '1.4.7', '0.3', '0.2.5', '9.0', '0.2.5', 'F4', '7.9.2', 'G#1', '7.10.1.3', 'B0', 'G4', '4.9', 'G5', '11.0', 'G6', '4.8.11', 'G6', 'B3', 'B-1', 'F5', 'G#2', '9.2.3', 'F6', 'G6', '10.0.3', 'G6', 'F6', 'G#6', 'G1', 'G2', '0.3.6.9', 'G3', 'G6', 'G4', '0.2.5', 'G6', '8', 'D6', '0.2', 'A0', 'G2', '1.5.9', 'F#2', 'G2', 'G6', 'G#4', 'G3', '1.3', 'G5', 'B-1', '7.9', '10', '4.9.10', '0.2.5', 'G2', '2.4', '3.7.10', '0.3.6', 'D4', 'G6', '8.9.1.4', 'F6', '0.6', 'C6', 'C#7', 'G4', 'F#1', 'G5', 'G#2', 'F5', '6.7', '6.7', 'F#4', '9.0.2.5', 'G3', 'G3', 'G#5', 'G#6', '0.2.7', 'G#5', 'G5', 'G2']\n",
            "Time for epoch 44 is 0.791243314743042 sec\n",
            "['G6', '1.2', 'F#3', 'G4', 'G6', 'F6', 'G#2', 'G#4', '3.6.9.11', '9.11.2', 'G5', 'G#3', '0.2', '8.9.1.3', '1.3.8', 'G6', '8.11.3', 'G5', '2.5', '10.0.4', '1.2', 'E6', 'B-5', 'G4', 'G3', 'D1', '4.7.11', '11.2.4.6', 'G#3', '5', 'G#6', '8.9.1.4', 'G5', '2.4.9', '11.1.6', '10.2.4', 'D5', 'G5', '7.8', 'C6', '8.10.1', 'G5', '1.2.4.6.8.10', 'G3', 'B-3', 'D4', 'G4', 'G#3', '0.4', 'E-3', 'G6', 'G#1', '0.3.6.9', 'G5', '0.3.6.9', '2.5.7', '0.1', '8.11.3', 'F#6', '4.7', '11.0.5', 'G6', 'G6', 'G#4', 'G4', '0.5', 'G4', '5', '0.3.6', '0.6', 'E3', '11.2.4.6', 'G4', '0.3.6.9', '10.3', 'B1', 'G#6', 'G5', 'B4', '1.4', 'B3', '1.4.7.9', 'G#2', '0.6', '0.4.7', 'F#1', 'G#3', '0.3.5', 'D5', 'G#1', '8.9.1.4', 'E3', 'G3', 'G3', 'G5', 'G4', '10.2.5', 'G4', 'G#6', '3.7.9']\n",
            "Time for epoch 45 is 0.7895553112030029 sec\n",
            "['G6', '0.2.7', '9.0.4', 'G5', 'G6', 'A5', 'F#2', 'G#4', 'B3', 'G#1', 'G6', 'F4', 'C#7', 'F6', '1.4.6', 'G6', 'E4', 'G2', 'E-2', 'G#2', 'G#5', 'B4', 'G4', 'G3', 'G5', 'B-1', 'F4', 'F1', 'G#1', 'F3', 'C3', 'D7', 'G5', 'G#3', '0.2.7', 'C#1', 'F2', 'G6', '2.7', 'C1', '6.9.0.2', 'E-5', 'F#1', '1.3.8', '5.8.11', 'D3', 'G#5', 'F#3', 'A4', '1.7', 'E-4', 'F#5', 'F#3', '4.9', '1.5.8', '0.6', '1.2.6', '5.10', 'F1', 'G#5', 'C#1', 'G5', 'G6', 'F#4', 'G2', 'E-6', 'G6', '7.9.2', '0.3.5', '1.7', 'F6', 'G3', 'G5', 'C2', '9.0.2.5', 'G#4', 'G5', 'G2', 'A5', '0.2.5', 'F#5', '10.2.5', '6.10', '0.2', '9.11.1', '0.2.5', 'C5', '0.2.4.7', '3.7', 'E4', '1.3.6', 'C3', 'G#6', 'F#1', 'G5', 'G4', 'E-6', 'G3', 'A5', '0.3']\n",
            "Time for epoch 46 is 0.8250732421875 sec\n",
            "['G6', '5', '10.0.3', 'G5', 'G6', 'E2', 'F6', '11.1.4', '10.0.4', 'G4', 'G6', '8.0.3', 'F2', 'F#3', '10', 'G6', 'F#2', 'G1', '2.5.7.10', 'E-4', 'G3', '9.11.4', 'G5', 'E-5', 'G5', 'E-6', '2.8', 'F#6', 'G#5', 'G#3', 'G#2', 'G#6', 'D5', 'G4', '0.3.6.9', 'F#1', 'F5', 'G5', 'F2', 'G#1', 'F#2', '5.7.0', 'G4', '10', 'A6', 'F4', 'F#4', 'B6', 'G2', '2.5.8', '1.3.6', 'F5', 'G2', '9.2.3', 'D3', '11.0.4.7', 'F3', '7.10.2', 'F6', 'G3', 'G4', 'D5', 'G6', 'C4', 'G#2', 'G4', 'G6', 'C#1', 'F#3', '9.11.1', 'F#2', 'G6', 'G1', 'F1', 'E6', 'C#6', 'G6', 'A4', 'A3', '3.4.8', 'E4', 'F3', '0.4', '0.1', 'F6', '1.2', '9.11.2', '1.5.8', '10.0', 'C7', '1.2.6', 'E6', 'E3', 'G#1', 'G5', 'B-3', 'G#3', 'G4', '10.2.3', '2.5.7.10']\n",
            "Time for epoch 47 is 0.8155961036682129 sec\n",
            "['G5', '8.9.1.4', '11.2.5', 'G4', 'F5', '7.10.0', '7.9.0', '7.8', '10.0.4', 'G5', 'G6', 'E-2', 'F6', 'F#3', 'F3', 'G#2', '7.9', 'C#4', '0.3.7', '4.8', 'G#2', 'F#5', 'F6', '4.8.11', 'F5', '2.4', '1.2.6', '8.10.1', 'C7', '2.5.8', 'G3', 'G5', '1.4.7', 'G4', '9.2.3', 'F#5', 'G#5', 'G5', 'G5', 'G3', 'F#2', '9.11.2', 'G6', 'G#5', 'D4', '3.6', 'E1', 'A0', 'G4', 'G#2', '1.3.8', '6.9', 'G4', 'F1', 'G#1', 'C6', 'G2', '2.5', 'E-4', 'G4', 'G4', '11.3', 'G6', '2', '11.0', 'G5', 'G6', 'G#1', 'G4', 'G#2', '6.9', 'G6', '1.3', '3.5.7.10', '9.0.2.5', '0.6', 'G4', '0.3.7', 'E6', 'G1', 'F3', 'G5', '8.9.1', '0.2.7', '8.9.2', 'G1', 'D3', 'G#6', '3.9', 'F4', 'C3', 'D7', '0.5', 'G#6', 'G2', '0.3.6', 'G4', 'G3', 'A5', 'G#6']\n",
            "Time for epoch 48 is 0.8408229351043701 sec\n",
            "['G3', '11.2', 'G4', 'F#6', '10.1', 'C#7', '10.0.4', 'G#5', '3.6.10', '3.6.10', 'G6', 'G#6', 'G3', 'G#5', 'F#1', '7', '8.10.3', 'D4', '8.9.1.3', 'C#7', 'G3', 'G#2', '11.3', 'C#7', '2.4', 'C1', 'C4', 'E5', '9.11.2.5', '1.3.8', 'F2', 'G6', 'E6', 'G5', 'G5', '2.5.7', '8.9.1.3', 'G6', 'G6', 'G4', 'F#2', 'G#4', 'G5', 'G5', 'G1', '4.7.9.0', '9.0.2', 'C#3', 'E-4', 'G#6', 'G1', 'E-5', 'G4', '11.0', 'E5', 'G#1', 'C5', '8.9.1.4', 'F4', 'G#3', 'E6', 'E3', 'G6', 'E5', '10', 'G6', 'G6', 'F#5', 'G4', 'G#3', 'F2', 'G6', '1.3.6', '2.4.6.9.11', 'E-1', 'C#1', 'G5', '5.9.11', 'A3', 'G#5', '11.3', 'G6', 'F#4', 'G#4', '5.9.0', 'G4', 'B0', 'G5', '7.9.11.2', 'G#2', 'F2', 'E-2', '1.3', 'G4', 'E-5', '1.2.6', 'G4', 'G2', 'E3', 'G3']\n",
            "Time for epoch 49 is 0.8095390796661377 sec\n",
            "['G3', 'G#5', 'G5', 'D3', '7.10', '6', 'F2', 'G4', 'G#2', '0.3', 'G1', 'D2', 'G3', 'G#6', 'G2', 'A2', 'D1', 'E1', 'F#6', '6', 'G5', 'A6', '9.1.4', 'F2', '4.5.9', 'F#3', 'G5', 'F1', 'G#6', 'C7', '7.10.2', 'G5', 'F6', 'G5', 'G5', '3.5.7.10', '1.4.7', 'G6', 'G6', 'G2', 'F1', 'G2', 'G4', 'G6', 'G4', 'G#4', 'B-6', 'B-1', 'G#3', 'G#1', 'G6', '1.6', 'D3', 'F4', 'E-2', 'G1', '1.2.6', 'E-5', 'F1', '2.6.7.9', '3.9', 'D3', 'G6', 'E1', 'B4', 'G6', 'G5', 'D1', 'G6', 'C5', 'G2', 'G6', 'B-6', 'A3', 'G#1', 'C#4', 'G6', 'G#4', '10.0.4', 'E3', '1.3.7', 'G6', '9.1', 'G5', '8.11.1', 'G4', '1.2.4.6.8.10', 'G5', 'D5', 'F4', 'G#6', 'D3', 'D6', 'G2', '3.5', '9.11.1', 'G3', 'C#5', 'F6', 'G5']\n",
            "Time for epoch 50 is 0.815366268157959 sec\n",
            "['G1', 'G4', 'G6', 'G#3', 'G#1', '7.11', 'G#5', 'G5', 'G5', '2.4.8', '10.0', 'F#3', 'G4', 'F1', 'G2', 'F3', 'E-5', 'F#1', 'G#1', 'C#7', 'G4', '7.10.2', 'F3', 'E5', 'F3', 'B-6', 'G6', 'G#4', 'G#6', 'F#2', '4.7.11', 'G3', 'G1', 'G5', 'G4', 'F#1', '8.11.1', 'G6', 'G5', 'G2', 'G#6', 'F6', 'G2', 'G6', 'G#4', 'G1', 'F6', 'E-5', 'G#5', 'F#4', 'G5', '1.4.7.9', '11.2.4', 'G3', 'F#6', 'G#5', '6.9.0.2', 'D7', '1.2', '4.5.9', 'B5', 'E3', 'G6', 'A0', 'F6', 'G6', 'C#7', 'F#2', 'G6', 'F#1', 'G#6', 'G6', 'F#4', '7', 'F3', 'D7', 'G6', 'G#6', 'B0', 'B0', '5.8.0', 'G6', '8.9.1', 'G6', '9.0.2', 'G3', '11.2.4.6', 'G4', 'G#3', 'D5', 'G2', '9.11.2.5', 'F#6', 'F6', '3.7.9', 'D4', 'G2', '1.3.8', 'D2', 'G5']\n",
            "Time for epoch 51 is 0.8111486434936523 sec\n",
            "['F4', 'G3', 'G6', 'G3', 'G#4', 'F1', 'G#6', 'G2', 'G6', 'G1', '0.4.5', 'G#5', 'G2', '4.7.9.0', 'G2', 'G#3', 'C#4', 'F#6', 'G1', 'G#5', 'F#2', 'D7', 'G#2', 'E-1', 'G#3', '9.11.2.5', 'G6', 'E1', '9', 'G2', '6.8.11.2', '1.5', 'D6', 'G#1', 'G5', 'F#4', 'G1', 'G5', 'G4', 'E-6', 'G#5', '2.5.7', 'G4', 'G5', 'C2', 'F4', 'F6', 'E-6', 'G#3', 'E-3', '8.0', 'F#5', 'G#3', 'G4', 'G#6', 'F#3', 'F5', 'E1', '0.3.7', 'G#2', 'G2', '9.2.3', 'G3', '6.10', 'G#6', 'G6', '1.4.6', 'G2', 'G6', 'F#2', '2.7', 'G5', 'G#6', 'C#6', '8.10.3', 'F2', 'G6', 'C7', 'G3', 'B-5', 'G3', 'G6', '3.6.9.11', 'G6', 'E-1', 'F2', 'G#4', 'G4', 'F2', '4.5', 'F6', 'D7', 'F5', '1.3.7', 'B-4', 'C3', 'G#5', 'C4', 'B4', 'G4']\n",
            "Time for epoch 52 is 0.8134627342224121 sec\n",
            "['2.8', 'G#5', 'G5', 'B1', 'G#3', '9.2.3', 'G#4', '10', 'G6', 'G1', '1.7', 'G#4', 'E-5', '1.3', 'B-5', 'G#3', '8.11.1.4', 'G#1', 'F5', 'G4', '3.4.8', 'D1', 'F6', 'B6', 'E-2', 'G#6', 'G6', 'G3', 'B-2', 'D7', 'G#5', '3.5', 'G4', '11.2.5.7', 'G6', 'F6', 'G5', 'G5', 'B-2', 'G2', 'G5', 'B-5', 'G6', 'G2', 'E3', 'F1', 'F#2', 'G2', 'F6', 'G#4', 'E3', 'G2', 'G#5', 'G5', '2.5.8', 'G#3', 'F6', '6.9.0', 'F#4', 'G5', 'G3', '5.8.0', 'B-1', '4.8.9', 'E-3', 'G3', '1', 'G#3', 'G5', '1.4.8', '1.4.6.9', 'C#5', 'G4', 'G#4', 'A5', 'F5', 'G6', 'E-5', 'G4', '6.8.10', 'G5', 'G6', 'E3', 'G6', '7.10', '6.9.1', 'G4', 'G3', 'B-6', 'D5', 'B-6', '6.9', 'G4', '1.3', 'A6', '7.9', 'F3', 'G#2', '4.5.9', 'F5']\n",
            "Time for epoch 53 is 0.8220553398132324 sec\n",
            "['4.8.9', 'G3', 'G6', 'G#1', 'G#4', 'A2', 'D5', '2.4.6.9.11', 'G6', 'G4', 'G#1', 'G2', 'D1', 'G#4', '3.6.8', 'G4', 'D3', 'G4', 'F4', 'G3', 'E4', 'B4', 'F#2', 'G1', 'C1', 'G4', 'G6', 'G1', 'B4', 'D4', 'F#3', 'E4', 'G#3', '1.4.6.9', 'G#4', 'F#3', 'G3', 'G#6', '10.1', 'E-1', 'G#2', '2.5', 'G5', '4.6.9.11', 'G#3', 'C#1', '2.7', 'G6', 'E2', 'G1', 'G#6', 'G4', 'G#6', 'G3', '10.2.4', '6.7', 'G5', 'C#4', 'E3', 'G6', 'F3', 'F#5', '10.2', 'E-1', 'C5', 'E2', '3.6', 'F6', 'G1', 'F#4', '11.2.4', '1', 'C#4', 'G#5', 'F#4', 'G1', 'G#6', '11.4', 'G5', '7.10.1', 'G3', 'G#6', 'G#3', 'G5', 'A6', '9.0.2', 'G5', '8', 'G#6', 'G2', 'A4', 'G#3', 'G3', 'D7', 'F#4', 'G#1', 'F#1', 'G#3', 'B5', 'E2']\n",
            "Time for epoch 54 is 0.8168528079986572 sec\n",
            "['2.4.8', '10.1', 'G6', '6.10.11.1', 'B-2', '11.1', 'A1', 'G#1', 'G6', 'G6', 'G3', 'E-2', '4.7.9.0', 'G#3', 'G#1', 'G4', 'C#7', 'G5', 'E-6', '11.1.5', 'C6', '3.5', '11.3.6', 'F2', 'C3', 'G#4', 'G6', 'E-5', 'G#6', 'C#7', 'F4', 'G#6', 'E2', 'C6', 'E-4', '1.3.8', 'G5', 'C#2', 'D2', '9.2', 'G4', 'F3', 'D1', 'E5', 'G#4', 'F6', '5.9.11', 'G6', 'G2', 'G1', 'G4', 'G5', 'G#1', 'F#6', 'F#1', '9.2', 'G6', 'G#6', 'F#1', 'G3', 'G1', 'G4', 'C3', 'F1', '9.2', 'C#3', 'G#5', 'E-5', '11.4', 'G3', 'F5', '4', 'D3', 'G#4', 'G1', 'G#6', '0.5', '11.2', 'G3', '9.11', 'G5', '1.4.6', 'G2', 'G4', 'D1', 'C6', 'G4', '0.3.6.9', 'G3', 'G2', '7.9', '9.11.1', 'E3', 'E2', 'C4', 'F#2', '3.6', '4.5.7.11', '8.1', 'D1']\n",
            "Time for epoch 55 is 0.7898049354553223 sec\n",
            "['G#1', '6.9.1', 'G6', 'G4', 'C1', 'E-3', 'G2', 'G1', 'G6', 'G6', 'G4', 'G#4', 'E5', 'G1', 'G4', 'C6', 'G#5', 'G5', 'G2', '9.0.2', 'D4', 'E5', 'G#6', 'G3', 'G#3', 'E-6', 'G6', '9.11.0.4', 'G5', 'F5', '9.11.0.4', 'F#1', 'E1', 'G#6', 'F1', '6.10', 'G6', '6.9.0.2', 'F#3', 'G1', '9.11', 'G2', '11.3.6', 'G4', 'F4', 'G#6', 'C7', 'G4', 'G#5', 'C1', 'G2', 'G2', '7.11.0', '9.0', 'F2', 'F6', 'G3', 'G1', 'G#2', 'E5', 'F5', 'G4', 'G2', 'G#5', '10.0.5', '2.5.7.10', 'G3', '0.3.7', '1.5.9', 'G3', 'G2', 'G2', 'C#6', 'G#5', 'G#4', '7.11', '0.6', 'F3', 'G#5', '7.11', 'G6', '1.3.8', 'G5', 'G5', '7.9.1', 'G4', 'G5', '8.9.1.4', 'G4', '9.2', '9', 'G#1', '10.2.5', '9.11.2.5', 'G#5', 'G#1', 'A2', '10', 'E-2', '4']\n",
            "Time for epoch 56 is 0.7867410182952881 sec\n",
            "['G2', 'G2', 'G4', 'G6', 'F5', 'G4', 'G6', 'G5', 'B-3', 'G6', 'G5', 'G6', 'E-1', 'G4', 'G1', '10.2.3', 'G2', 'G6', 'G#5', 'E3', 'G4', '4.6.10', 'G#6', 'G5', 'G5', 'G#1', 'G6', 'F4', 'G4', 'F#2', 'G#2', 'G#2', 'G1', 'G6', 'G#4', 'G5', 'G5', 'F#3', 'G1', 'G6', '5.10', 'G6', 'E5', 'G6', 'F2', 'G4', 'F#2', 'G6', '3.9', '0.2.7', 'G6', 'B6', '0.5', 'F4', '2.5', 'A3', '6.11', 'F1', 'G1', 'F#4', '2.4.7', 'G#3', 'G5', '6.10.11.1', '4.5.7.11', 'G#2', 'G4', '0.3.5', 'E3', 'G2', 'G5', 'F1', '3.4.8.10', 'G#6', 'F6', '0.2.4.7', 'E3', 'G5', '0.4.7', 'G#6', 'G2', 'E-5', 'G6', 'G5', 'F5', 'G6', 'G3', 'F#4', 'F#5', '1', '6.9.0', 'C#3', '5.8.0', 'G2', '1.4.8', '2.6.10', 'E6', 'C#2', 'F#2', '0.3.5']\n",
            "Time for epoch 57 is 0.8483273983001709 sec\n",
            "['G3', 'G#1', '9.11.1', 'G#5', '2.8', 'G5', 'G5', 'G5', '0.3', 'G4', 'G2', 'G#3', 'G1', 'G2', '1.4', 'E6', 'G4', 'G#6', '10.0.4', 'G1', 'G1', 'E-3', 'G4', 'G#5', 'G6', '2.6', 'G6', 'G#1', 'F5', '7.10', 'G1', 'G5', 'F4', 'G6', 'G4', 'G6', 'G3', 'G#4', 'G5', 'G6', 'G3', 'G6', 'B1', 'G6', 'C#6', 'G1', 'G#2', 'G5', '6.10.0', '0.3.6', 'G6', '2.4.9', 'F#4', 'E1', 'F#3', '11.2.4.6', 'B-1', '6.9.11.2', 'F3', 'G3', '9', 'F6', 'G3', 'C1', 'G#2', 'G#4', 'G4', 'G2', 'G2', 'G6', 'G2', 'F3', '0.6', 'A4', '11.3.6', '1.3.6', 'F#6', 'G#6', 'C7', 'G1', 'G#3', 'G2', 'G6', 'G3', 'G#5', 'G5', 'F5', 'F#1', '8.9.1.4', 'E-5', 'E3', '2.6.9', 'G#5', 'G4', '0.4', 'F5', 'E-4', 'G#4', 'F1', '6.10.1']\n",
            "Time for epoch 58 is 0.8288190364837646 sec\n",
            "['G4', 'E-5', '0.3.6.9', '10.0.4', '3.5.7.10', 'G5', 'G2', 'G#1', '4.5.9', '7.10.0', 'F#4', 'F#4', 'G6', 'G#4', '3.6.10', 'G#4', 'G#1', '10.1.4.6', '1.2.4.6.8.10', 'G4', '3.9', 'G4', 'G5', 'C#4', 'G6', '4.7.9', '9.11.2.5', 'B5', 'B3', '0.4', 'E-4', 'G6', '5.8.11', 'G6', 'F1', 'G3', 'B1', '6.8.1', 'G5', 'G5', 'G1', 'G6', '4.8.11', 'G2', 'C1', 'E-4', 'C4', 'C#3', 'B0', 'G#2', 'G#4', 'C5', 'F5', '11.1', 'G#5', 'G#6', 'G#1', '3.6.9.11', 'E-4', '7.10.0', 'E5', 'B-1', '9.1', 'G#2', 'G4', '7.8', 'G#4', 'G4', 'G5', 'G6', 'G1', 'F2', 'E-2', '11.2.4', 'B-6', 'F4', 'G2', 'G3', 'G#5', 'G3', 'G3', 'G3', 'G5', '1.4.7.9', 'G3', '8.1', '11', 'G1', '6.10', 'G5', '8.10', 'F6', 'G3', 'G3', 'A4', 'G3', 'G#5', 'G4', 'F#3', 'F#2']\n",
            "Time for epoch 59 is 0.8710737228393555 sec\n",
            "['G5', 'B-5', '1.2', 'E6', 'G2', 'G2', 'G5', 'E-5', 'F#3', '5.8.10', 'G5', 'G#2', 'G6', 'G5', 'G3', 'G#4', 'G4', 'G#4', '7.11', 'G5', 'G#2', 'G#6', 'G#6', 'C6', 'G5', 'G3', '11.2.4', 'G#2', 'G4', 'F4', 'C#6', 'G6', 'G2', 'G6', 'G3', '9.11.1', 'A1', 'D3', 'E-6', 'F1', 'F6', 'G6', 'G6', 'E2', 'G2', 'F5', 'E-6', '3.7.10', 'G3', 'G3', '9.11.2.5', 'G#5', 'G#1', 'D5', 'G#6', 'E-1', '11.1.4', '1.4.6.9', 'G#4', '4', 'B2', '1.4.7', 'F4', '0.4.7', 'G#3', 'G3', 'G3', 'G3', 'G6', 'G6', 'G#2', 'F#6', 'G1', 'C#3', 'E4', 'F2', 'G5', 'G4', 'E1', 'G4', 'F1', 'G2', '6.7.11.2', '11.4.5', 'G2', '1.5.9', '5', 'G5', 'B-3', 'G3', '10.1.5', 'F#1', 'G5', 'F5', 'F4', 'G#4', 'G#6', 'G1', 'F#5', 'G3']\n",
            "Time for epoch 60 is 0.8469483852386475 sec\n",
            "['G1', '0.3.6', 'F3', 'G2', 'G3', '0.4', 'G6', 'F5', 'B0', '0.4', 'G6', '5.8.11', 'G6', 'G2', 'G6', '5.9.0', 'G4', 'A1', 'G#6', 'G4', 'G#2', '6.9.0', '1.5.9', '1.5', '3.7.10', 'G5', 'C4', 'G#6', 'G#2', 'G5', 'E-4', 'G#6', 'G6', '7.9.2', 'G5', 'D4', 'G2', 'G5', '3', 'F#5', 'F6', 'G5', 'G6', 'G2', 'A1', '8.11.3', 'G6', 'E2', 'G5', 'G2', 'B0', '5.11', 'G2', 'E-1', 'G#6', '10.0.3', '0.1', '4.10', '4.7.11', 'F2', 'E2', '8.0.3', '11.0.4.7', '0.2.5', 'C#3', 'G5', 'G#6', 'G2', 'F5', '1.3.6', '0.6', '8.9', 'G5', 'E2', '9.11.4', 'G#2', 'G#3', 'F#4', '3.6.8', '10.11', '0.3.6', 'G4', '0.3.6', 'G3', '1.3.7', 'G#1', 'G#4', 'G#4', '9.1', '10.0.5', 'C2', '0.2.4.7', 'G4', '2.6.7.9', 'G#5', 'G#6', 'F#3', '11.3', 'G#6', 'G2']\n",
            "Time for epoch 61 is 0.8517563343048096 sec\n",
            "['G#5', 'E-5', 'F1', 'G6', 'G5', 'C5', 'G5', 'G3', 'C5', 'G#5', 'G5', 'F#6', 'F#3', '3.4.8', 'G6', '8.0.3', 'G5', 'F#6', 'G#4', '3.5', 'E5', 'F#5', 'C3', 'G5', 'E-2', 'G6', 'G3', 'G#5', '5.10', 'G4', 'F4', '2.3.7', 'G6', 'G1', '10.2.3', '9.1', '9.0.2.5', 'G5', '2.5.7.10', '6.9.1', 'F6', 'G6', 'G5', 'B5', '6.10.11.1', 'G5', 'G5', 'G3', 'G6', 'G5', '7.0', 'F6', 'G5', 'G2', 'G#1', 'G4', '11.4.5', 'F1', '0.3.6.9', '4.8', 'G5', 'G5', 'F#3', 'D4', 'A3', 'G6', 'E-2', 'G#5', '11.2.4.7', '0.3.6', '0.2.4.7', '7.9.0', 'G6', 'F5', 'C#1', 'G4', 'G#1', '4.8.11', 'G#4', '1.3.7', '11.0', 'F#5', '0.3', 'G#3', '1.4.6.9', 'G5', 'E4', 'C#6', '4.6.9.11', 'F3', 'E4', '0.2.4.7', '11.4.5', '3.7.9', 'G2', '1.7', 'F6', 'B4', 'F4', 'B1']\n",
            "Time for epoch 62 is 0.8279154300689697 sec\n",
            "['C7', 'G#2', '8.9.1.4', 'G5', 'F6', 'G#4', 'E-4', 'B5', 'E3', 'G2', '9.2.3', 'G3', '3.5.7', '0.6', 'G6', 'G3', '3.4.8', 'G3', 'G#6', '10.0', '5.8.11', 'F5', 'F6', 'G5', '2.7', 'G1', 'F#3', '10.0.3', 'B3', '5.9.11', '3.6.9.11', '4.8', 'G6', 'G5', 'E2', 'A3', 'B3', 'G4', 'G4', '3.8', 'G3', 'G6', 'G6', '8.10.3', 'G4', 'G1', 'G2', 'G6', 'G#1', 'G6', 'G3', 'F1', 'G4', 'F6', '0.4', 'G4', 'G3', 'G3', '1.6', 'D7', 'G5', 'G6', 'F#2', 'G1', '1.2', 'G6', '0.4', 'E3', '9.11.0.4', '6.7.11', 'F6', 'F4', 'G4', '7.11', 'E5', 'G5', '9.0.4', 'F2', 'G3', '1.4.7.9', 'G#4', 'D7', '3.8', 'E-6', '5.8.0', 'G3', 'B5', 'C7', 'G#3', 'G4', 'G2', 'G#4', '5.8.0', 'G#5', 'G5', 'F6', '8.1', 'G#4', '0.4', '4.9.10']\n",
            "Time for epoch 63 is 0.809701681137085 sec\n",
            "['3.4', 'E5', 'G2', '7.8', '0.6', 'G5', '0.4', '9.2.3', 'G#5', 'F5', '1.3.8', 'G4', 'F#4', 'D5', 'G6', 'G6', 'B-3', 'F#3', 'G#1', 'G#5', 'F#6', '3.6.9.11', 'G4', 'G5', 'F2', 'G2', '8.9', '8.0.3', 'G#5', 'G#5', '1.3.7', '3', 'G1', 'G5', 'G6', 'E-1', '4.6.9.11', 'G4', 'G6', 'G5', 'D5', 'F#1', 'G4', '2.3.7', 'G3', '3', 'C7', 'G6', '0.3.7', 'G6', 'G5', '3.8', 'G#1', '10.1', '0.4.5', 'G4', 'G5', 'E-1', 'G#5', 'G#5', 'F#4', 'G6', 'G#5', 'G#5', '1.3', 'E-3', '7.9.11.2', '1', 'E-6', '7.10', 'G5', 'E6', '11.2.4', '0.4', 'G3', 'G5', 'D5', 'F4', 'G6', '1', 'B3', 'F1', 'G2', 'E1', 'E1', 'E-6', '1.4', 'A4', 'D7', 'G6', 'G5', 'G3', 'E-4', 'G2', 'G6', 'G4', '1.2', 'E-2', '0.3.6.9', '7.9.0']\n",
            "Time for epoch 64 is 0.8441171646118164 sec\n",
            "['10.1.3', '6', '2.5.7.10', '1.3.6', '0.2', 'G3', '0.1', '0.3.6', '8.0.3', '5.7.0', '0.2.4.7', 'C2', '1.4', '7.9.1', '9.2.3', 'F#3', '0.2.4.7', '10.2', 'F4', 'G2', '1.3', '3.8', 'G2', 'F#1', 'A5', '6.10.1', '0.2.4.7', 'G#2', '9.0', 'G1', 'G1', 'G#4', '4.7.9', 'C#6', 'G6', 'G3', 'E-5', 'G6', 'G6', 'G5', 'B1', '0.2.4.7', 'F#1', 'G#4', 'G4', '0.3.6.9', 'A4', 'G5', '0.2.4.7', 'G6', 'G#2', '8.11.1', '2.6.9', '1.2.6', '2.5.9', 'G#5', 'G4', 'F#1', 'G2', 'E4', '1.4.7', 'G6', 'E6', 'G3', '7.9.0', '0.2.5', 'G#4', 'C#2', 'G3', 'F#6', 'G5', 'G#2', '0.2.7', '4.5.9.0', 'G1', 'G2', '2', 'B2', 'G5', 'E-3', 'G1', 'G#6', 'G5', '4.7', 'G#2', '4.8', '5.9.0', 'F#1', 'G3', 'G6', 'G2', 'G6', '2.3.7', 'G1', 'G6', 'F6', '2.4.6.9.11', '10.2', '4.6.10', 'F#4']\n",
            "Time for epoch 65 is 0.8336443901062012 sec\n",
            "['G2', 'G4', 'F2', 'G5', 'G#5', 'G6', 'G#3', 'F2', 'G3', '9.1.4', 'F6', 'G6', 'F#1', 'G6', '2.4', 'G#6', '7.9.11.2', 'G6', '8.11.1.4', 'G4', '3.6.10', 'D5', '9.11.4', 'G1', 'G5', 'D1', '9.0.4', 'G#6', 'G6', 'E3', 'F3', 'G4', 'G1', 'G1', 'C#4', 'G4', '1.4.6', 'B-3', 'F5', 'G6', '2.6.7.9', '8.0', 'G3', 'G5', 'G5', 'E-4', '3.7', 'D4', 'F#3', 'G6', 'G6', 'G6', '2.7', 'G6', '0.6', 'B-6', 'G#4', 'A3', 'G1', 'F6', '1.5.9', 'G5', '3.9', '10.11', '0.3.7', '10.0.4', '10.1.4.6', 'B0', 'G#5', '5.8', 'G6', '0.2.7', '10.1.4.6', '8.1', '7.9', '0.3.6.9', 'B3', '7.10.0', 'G#2', 'E3', 'B3', '1.4', 'F#5', '5.10', 'G6', '2.4.7', 'E4', '8.9.2', 'F2', 'G6', 'E1', 'G5', 'G#5', 'F4', 'G4', '11.1.4', 'D1', '1.3.7', 'D2', '4.7']\n",
            "Time for epoch 66 is 0.8177435398101807 sec\n",
            "['A1', 'G#3', 'G#4', 'G5', 'G4', 'G6', 'G5', 'G5', 'G4', '8.9', 'G3', 'G6', 'G4', 'G6', 'B5', 'G#4', 'G#1', 'G6', '9', 'G#5', 'E2', 'F#1', 'G#5', 'G#5', 'G5', 'G1', 'G4', 'G#2', 'G6', 'G#3', 'G#2', 'F5', 'G1', 'G#6', '8.10.3', 'G5', '11.1.4', '5.8.10', '3.5.7', 'G5', 'E2', '8.11', 'G6', 'G5', 'G#3', 'F5', '3.7.9', '0.3.6', 'G#1', 'G#1', 'G6', 'G6', 'G5', 'G6', 'D2', '0.3.6', 'G#4', 'D2', 'F5', 'E2', '8.11', 'G3', '0.5', '0.4.5', '9', 'F3', '1.3.7', '9', 'G1', 'A4', 'G5', '10.1', 'E2', 'E3', '0.6', '0.2', '2.7', '0.3.7', '11.1.5', 'G#5', '9.2.3', '0.6', 'G#1', 'C#5', 'G6', '2.4.7', 'D2', 'B4', '8.10.3', 'G5', '0.3.6.9', 'G2', 'G3', '1.2', '11.1', '0.1', '3', 'D1', '3.8', '2.4']\n",
            "Time for epoch 67 is 0.8367092609405518 sec\n",
            "['0.3.7', '1.3.7', 'C#4', 'G3', 'G3', 'G2', 'G3', 'G#6', 'G4', 'E1', 'G4', 'G2', 'G5', 'G6', '7.9.1', '1.3.7', '10.1.5', '8.1', '7.10', 'G3', '3.6', 'G3', 'C#6', '4.7.11', 'A2', '7.10.1', 'G5', '6.9.0', 'G3', '9.0.4', 'F6', '6.8', '1.7', '1.4.6', 'E-3', 'G5', 'G1', 'G#4', 'F2', 'F6', 'G#6', '0.4', 'D6', 'G5', '0.3.6', 'G#3', 'G#2', '0.2', 'G3', 'D4', 'G6', 'G6', 'G6', 'G6', 'F6', 'E5', 'G2', 'F4', 'C7', '8', 'F5', 'G6', '0.3.6.9', 'A4', 'G1', 'C3', 'E6', 'G#5', 'G4', 'G3', 'G6', 'G4', 'G#5', 'G5', '0.3.7', '6.10.1', 'B6', '5.10', 'F6', 'G2', 'G#5', 'F3', 'G5', 'G#1', 'G5', '3.6.9.11', 'G#5', '1.4', 'F#4', '8.1', '0.2', '9.0.4', 'E5', '0.2', 'A4', '0.4', '5.9.0', '3', '4.7.9', 'E5']\n",
            "Time for epoch 68 is 0.8032970428466797 sec\n",
            "['1.5.9', 'F2', 'G#1', 'G6', 'G4', '7.10.1.3', 'G#6', 'G#3', 'G3', '9.0.2.5', 'G5', '4.9', 'G4', 'G6', 'A5', 'F5', '9.0.3.5', 'G5', '2.6', '8.0.3', 'G#4', 'G#1', '8.11.3', 'B-3', 'G#3', 'F1', 'G6', '9.0.4', 'G2', '0.4.7', 'E-4', '4.7.11', 'E1', '11.3.6', 'F#3', 'G#4', 'G4', 'G#5', '4.10', 'B-6', 'G5', 'E1', '1.2.6', 'F6', '2.6.10', 'G4', 'F#4', '0.4.7', 'G3', '10', 'G6', 'G6', 'G5', 'G6', 'F1', 'E-6', 'G6', 'C#7', 'E-2', 'G3', 'G1', 'G6', '7.8', 'G#2', 'G#5', 'G1', 'G#4', 'G2', 'G3', 'G#3', 'G5', 'G3', 'G4', 'G5', 'C1', '9.11.0.4', 'G#3', 'G#2', '4.7.11', 'G6', 'G#4', 'G#1', 'G5', 'G4', 'G5', 'G#2', 'G#3', '6.10', 'F5', '1.3.6', '0.3', '11.3', 'G#6', '1.4.7', '5', '3.8', '11.4', 'F1', '7.10.0', 'G#3']\n",
            "Time for epoch 69 is 0.808351993560791 sec\n",
            "['E-2', 'G3', 'G1', 'G5', 'G6', '6', 'G#4', '9.0.4', 'G3', '9.10.2.4', 'G5', 'C#3', 'G5', 'G6', 'E-1', 'G5', 'G1', 'G6', 'F4', '3.6.9.11', 'G3', '7.8', 'C#6', 'G#6', 'G5', 'F#3', 'G6', 'E-5', 'G#3', '11.2.4', '8.9.1.3', 'G#3', 'G5', 'F5', '4.8.11', '11.0', 'G5', 'B-1', '9.11.0.4', 'F4', 'G6', 'G5', '10.0.5', '7.10.0', 'F3', 'G5', 'E1', 'G#5', 'G#4', 'B4', 'G5', 'G4', '5.9', 'G6', 'G#2', 'E4', 'G6', '0.6', '9.2', 'G5', 'F4', 'G6', 'G4', 'G3', 'G#5', 'G#6', 'G#4', 'G#6', 'F#3', 'G#4', '4.6.11', 'G1', 'G#5', 'G#5', 'G#6', '9.0.4', 'G5', 'G4', '4.6.9.11', 'G6', 'F5', 'F#5', 'G1', 'G5', 'G6', 'G4', 'G1', 'E3', 'G#5', '11.4', 'F1', 'D1', 'G2', 'G#4', 'B2', 'F6', 'B-2', 'G#5', 'B3', 'G#6']\n",
            "Time for epoch 70 is 0.818711519241333 sec\n",
            "['G#6', 'G2', 'F4', 'G3', 'G6', '9.2.3', 'D2', '4.6.9.11', '8.9.1.3', 'E6', 'G2', '8', 'G2', 'G5', 'G#3', 'G5', 'G3', 'G6', 'G1', 'E6', 'G4', '1.5.8', 'G#3', 'F6', 'G6', 'G#2', 'G6', 'G2', 'B4', 'E1', '9', 'G4', 'G5', 'G#3', 'G#4', '2.8', 'G6', '11.2.5', 'G4', 'G4', 'G6', 'G5', 'G2', 'F2', 'G1', 'G6', 'D3', 'G5', 'G4', 'D6', '3.4.8.10', '2', '1.2.4.6.8.10', 'G5', 'G#5', 'G#2', 'G3', 'B3', 'E5', 'G5', 'C6', 'G1', 'G6', 'G4', 'G2', 'G#4', 'G#3', 'G#3', '1.4.7.9', 'G#4', '0.2.7', 'G#1', 'F#5', 'F#1', 'G2', 'F#3', 'G3', 'G2', 'F#5', 'G5', 'C7', 'E4', '1.3.7', 'G5', 'G5', 'G3', 'D2', 'A4', 'F#1', 'G#1', 'G1', 'E5', 'C2', 'G1', '7.9.2', 'G3', 'E4', 'G#2', '6.9', 'G#2']\n",
            "Time for epoch 71 is 0.8153860569000244 sec\n",
            "['G4', 'F#4', 'C7', '7.10.1.3', 'G5', '9.0.2.5', '1.6', 'F4', '11', 'G#5', 'B6', 'G#6', 'F#3', 'F1', 'F5', 'G4', 'G#4', 'G6', 'G3', 'G#4', 'F5', '8.1', 'E-6', 'F#4', 'G4', 'G2', 'G6', 'G3', 'B4', 'F#5', '8.10.1', 'G5', 'G2', 'G#4', 'G5', 'E5', 'G5', '2.5.7.10', 'G6', 'G5', 'G2', 'G6', 'G5', 'G#2', 'G1', 'G5', 'B6', 'G5', 'F5', 'F4', '1.4.8', '0.2.7', '1', 'G#2', 'G#1', 'G#4', '4.7.11', 'G#4', 'C#7', 'G5', '8.0.3', '11.2.4', 'G4', 'G6', 'G4', 'G#4', 'F4', 'G#4', '9.0.2.5', 'G#5', '0.2', 'C1', '5', '1.3.6', 'G4', 'G#3', 'F#6', 'G1', 'G#3', 'G3', '11.1.5', 'D2', '10.1.4.6', 'G6', '1.3', 'G#2', '11.3.6', 'C7', '1.4.6', 'G5', 'G3', 'C#4', '10.3', 'G1', 'E2', 'G2', 'G#5', 'F#4', 'D1', 'F1']\n",
            "Time for epoch 72 is 0.7961704730987549 sec\n",
            "['G6', '4.9.10', '6.10.1', '0.4.5', 'G5', 'G#2', '5', 'G#3', 'F3', 'D2', '7.10.1.3', 'G5', '2.7', '11', '3.7', 'G4', 'A5', 'G6', 'G#5', 'G#6', 'B-2', 'G#3', 'B-3', '9.1.4', '9.0.3.5', 'F2', 'G#6', 'E-5', 'F1', '9.11', 'F2', 'G4', '3.5', 'G4', 'G6', '5.10', 'G4', 'F3', 'G6', 'G#1', 'G#6', 'G6', 'G4', 'E2', 'G4', 'G3', 'B1', 'G5', '5.9.11', 'E-3', 'D3', '10.0.5', 'F6', 'G#5', 'C#1', 'F3', '1.5.8', 'G#6', '7', 'G3', 'F2', '1.2.4.6.8.10', 'G4', 'G6', 'G4', 'G#2', 'E-1', 'E-5', 'F6', 'G1', '1.3.8', 'E1', 'D6', '0.2.4.7', 'G4', 'G1', 'D6', 'G4', 'F1', 'G4', 'E-5', 'G#1', 'C#2', 'G5', '0.2.7', 'G#4', '2.6.9', 'C#4', '1.3', 'G6', 'G4', 'G#5', 'E5', 'G3', 'G#2', 'G#5', 'G4', 'E2', 'F3', '9.11.4']\n",
            "Time for epoch 73 is 0.8391518592834473 sec\n",
            "['G6', '9.0.3.5', '6.8.10', 'D7', 'G5', 'G#1', 'F2', 'G#6', 'G4', '6.7.11.2', 'E4', 'G5', '10.3', '10.0.4', '7.11.0', 'G4', '3.7', 'G4', '9.10.2.4', 'C7', '7.9.1', 'G2', 'F6', 'F1', '9.0.3.5', 'B-1', '2.5', 'E-3', 'G2', 'C4', 'G2', 'G5', '4.6.9.11', 'G2', 'G5', '10.2.4', 'G3', 'G5', 'G6', '7.11.2', 'G#4', 'G6', 'F6', 'E-6', 'G5', 'G5', 'B-6', 'G6', 'C5', 'E-2', 'G#6', 'B-2', 'G3', 'F5', '11.2.5.7', '2.5.9', 'E5', 'G3', 'C#5', '1.3.7', 'G#5', '2.4.6.9.11', 'G4', 'G5', 'G#5', 'F3', 'E6', '6.11', 'G#5', 'F5', 'G1', 'G#5', 'F3', '1.4.7', 'G5', 'G#3', 'B-5', 'G4', '9.11.2', 'G5', 'F3', 'F#6', '4.8.9', 'G3', '5', 'D2', '11.0', 'E2', '6.9.11.2', 'G5', 'G4', 'G4', 'D6', 'G#6', 'C#7', 'G#5', 'G4', '1.3.7', 'G#1', '1.4.7']\n",
            "Time for epoch 74 is 0.8182201385498047 sec\n",
            "['G6', 'F#1', 'F#4', 'G4', 'G5', 'G#4', 'G3', 'G3', 'G4', 'E1', 'G3', 'G6', '6.8', 'D1', 'G#2', 'G3', 'D6', '7.9.0', '8.1', 'F3', 'F3', 'G4', 'G4', 'G4', 'G4', 'E-4', '4.9', 'G#2', 'G3', 'G#2', 'G3', 'F6', 'F1', 'E-2', 'G2', 'F6', 'G#5', 'G6', 'G5', '9.2.3', 'G#1', 'G5', 'F4', 'G3', 'G2', 'G#6', '8.0.3', 'G5', 'G#6', 'F#6', 'F1', 'C#3', 'G4', '1.4.7.9', 'F#5', '3.8', 'E2', 'G#6', 'F#1', '1.4', 'G#2', 'F4', 'G3', 'G3', '3.5.7', '10.1.3', '6.10.11.1', '8.11.1', 'C4', '6', 'G3', 'G2', 'D6', 'F1', 'G3', 'G#5', 'F#1', 'G3', '8.9.1.4', 'G4', 'F#5', 'D1', '8.9.1.3', 'G#3', 'F3', 'G#1', '5.9.11', 'G#4', 'B6', 'G6', 'G4', 'G5', '7.10.1.3', 'F5', '10.0', 'G1', 'G3', '10.1.3', '8.9.1', '1.4.8']\n",
            "Time for epoch 75 is 0.825822114944458 sec\n",
            "['G5', '1.6', 'F5', 'G3', 'G1', 'E-4', 'G4', 'A4', 'F3', '9.1.4', 'G6', 'G3', 'F4', 'G#2', 'A1', 'E2', 'G2', '11.1.6', '5.8.10', 'E1', 'G2', 'G#3', 'G6', 'G6', 'G6', 'G6', '6', 'G4', 'F4', 'G4', 'G4', '1.4', 'G2', 'C#2', '3.6.10', 'G5', 'G#4', 'G6', 'G#6', 'G#5', 'G#6', 'G4', 'C7', 'G6', 'G3', 'G#3', '10.3', 'G4', 'G#4', 'G#3', 'F#4', '8.0', 'G2', '10.1.3', 'G5', 'G#6', 'D7', 'G5', 'G#6', 'F5', 'E4', 'C5', 'G6', 'F2', '10', 'D3', 'F#3', 'F6', 'F#6', 'A2', 'G6', 'E2', 'B5', 'G5', '3.5.7.10', '4.6.10', 'F#2', 'C4', 'F#4', '1.2.4.6.8.10', '9.0.2.5', '2.5.7', 'A3', '11', 'E3', 'F#2', '6.9.11.2', 'B3', '9.2', 'G6', 'C#7', 'G#2', '10.0', '4.5.9.0', '0.2.5', 'F5', 'C#4', 'C#6', '0.2.5', 'C#5']\n",
            "Time for epoch 76 is 0.8306324481964111 sec\n",
            "['G6', '6.11', 'F4', 'A5', '1.5.8', '2.3.7', 'G5', 'F6', 'E-6', 'F5', 'G6', 'F#1', 'G#6', 'G#6', '2.5.7.10', '1.2.6', '9.0.2.5', '10.2.3', 'C1', '1.5.8', 'G3', 'C2', 'G1', 'G4', 'G#3', 'G5', 'G#6', 'G3', '2.5.9', 'G#6', 'G6', 'F6', 'G6', 'G#2', '1.5.9', 'G6', '8.9.1', 'G3', 'E-1', 'G#6', 'D7', 'C7', 'G2', 'G4', 'F#5', '10.0.5', 'G1', 'G4', 'G#2', '2.6.7.9', 'F#3', 'G#1', 'D5', 'C#3', 'F#3', 'G1', 'E3', 'G4', 'F#4', 'F#2', '3.4', 'D7', 'G5', '0.3.5', 'C3', 'G4', 'F6', 'E-2', '6.9.0', '0.4.5', 'G4', '11.1.4', '7.10.0', 'G2', '0.2.4.7', '1.2', 'D2', '10.1', 'A1', '0.3.7', '11.1.4', '4.8.11', 'G5', 'E2', 'A2', 'G#5', 'G2', '0.4', 'F#2', 'G4', '4.8.11', 'E-5', 'E2', 'G1', '3', '1', 'A5', 'G1', 'C#6', 'F5']\n",
            "Time for epoch 77 is 0.8259725570678711 sec\n",
            "['G6', 'G#2', 'D2', 'G3', '1.4.7', 'F1', 'G#6', 'G5', 'D2', 'G5', 'G6', '6.8.1', 'E2', 'G2', 'F#1', '8.10.3', 'C#6', 'G6', 'D7', '0.2.5', 'G#3', 'C2', '0.4.5', '1.6', '8.0', '3.7.10', 'G#6', 'B1', 'G#6', '1.6', 'G6', 'G6', 'G5', 'G4', 'G2', 'G5', '11.0.5', 'F2', 'G3', 'G4', 'F#5', 'F6', 'G1', '5.8.0', '11.2.4.7', '2.4.6.9.11', 'G5', 'G4', 'G3', '4.7', 'G5', 'G1', '11.1.4', 'G4', '0.3.6', 'G5', 'G1', 'G#1', 'F#2', 'F#3', 'E-3', 'F3', 'F4', '1.5.9', 'E6', 'G3', 'F5', '4.5.7.11', 'E-2', 'E2', 'G4', 'G#6', 'C3', 'G6', 'G1', 'F4', 'G4', '9.2', '4.5', 'F2', 'G#2', 'G6', 'G6', 'F6', '7.9', 'C4', 'G5', 'F3', 'F3', 'G#2', 'B-1', 'E-1', 'G#3', 'G2', 'G#6', '4.7.9', 'C#5', 'G5', 'F#4', 'F6']\n",
            "Time for epoch 78 is 0.8310604095458984 sec\n",
            "['G5', 'E1', 'E2', 'G5', '9', 'G#6', 'C3', 'G5', 'F2', '6', 'G5', 'F#2', 'G4', 'G#6', 'E6', 'G6', 'G3', 'G6', 'G#1', 'F5', 'G#6', '5.9.11', 'E4', 'G#5', 'G#2', 'F#2', 'G3', '7.11.0', 'G3', '4.7.11', 'F3', 'G5', 'G#4', 'G6', 'G6', 'G3', 'F#4', '2.5.9', 'D7', 'G6', 'F#2', 'F4', 'G2', 'F4', '8.11', 'G#3', 'G5', 'G#3', 'G#2', 'G#1', 'F2', 'G4', 'G3', 'G4', '2.4.6.9.11', 'G#5', 'G#5', '10.2.3', 'G#5', 'F6', 'F4', 'A0', '1.4.7', 'F#6', 'F5', 'G5', '10.1.4.6', 'E-5', 'C#1', 'G4', 'G3', 'G#3', 'G#1', 'G6', 'G4', 'G4', 'G1', '9.0.2', 'G4', 'C#3', 'G2', 'G6', 'G4', '11', 'E-6', 'D4', 'F#4', 'G2', 'E6', 'G1', 'D3', '1.3', 'F#4', 'G3', 'G5', 'G#6', '9.0.3.5', 'G6', '5.8.0', 'B0']\n",
            "Time for epoch 79 is 0.836543083190918 sec\n",
            "['G#4', 'F#6', 'G#5', 'G#4', 'F5', 'G#3', '9', '4.7.11', 'F1', '4.6', '10.11', 'F1', 'G5', 'F5', 'G3', 'G3', 'G4', 'G6', 'E3', 'G2', '9.10.2.4', 'F#1', 'G4', 'G4', 'F#4', 'G5', 'E1', '2.5.7.10', 'G2', 'D4', '11.1', 'G2', '4.5', 'G6', 'G6', 'G#6', 'G#1', '6.11', '6.9', 'G5', 'G#6', 'F#6', 'G2', 'G3', 'G#4', 'G4', 'G4', '8.10', '9.0.2.5', 'G5', 'F#6', 'G3', 'G4', 'G5', 'F5', 'G#1', '8.10.3', '4.9', 'G2', '8', 'G#3', 'G#6', 'B-2', 'G4', 'G#2', 'G5', '11.0.5', 'A6', 'E6', 'G5', 'G4', '11.1.5', '9.11.0.4', 'G5', 'G4', 'G#4', '1.3', 'G#4', 'G6', 'G#6', 'G4', 'G6', 'D7', 'C#2', 'B4', '1.3', '0.4.7', 'G#6', 'F3', '4.6', 'G#3', '10.3', 'C4', '6.9.1', 'G6', 'G1', 'B3', 'G5', 'F2', '9.0.2.5']\n",
            "Time for epoch 80 is 0.8257155418395996 sec\n",
            "['1.4.8', 'G1', 'G#5', 'F5', 'F4', 'G#6', 'G#5', 'D5', 'G#2', 'D2', '2.4.9', 'F4', 'G4', 'E-4', 'G5', 'G#5', 'G5', 'G6', 'C#2', 'G2', '1.6', 'G#3', 'G3', 'G2', 'F#3', 'G6', '9', 'F#3', 'G2', '4.7.9', 'F#4', 'G1', 'E5', 'G6', 'G6', '3.4', 'G#2', 'G#3', 'C#6', 'G5', 'D1', '8.1', 'G#6', 'G5', 'G5', 'G6', 'G4', 'F#1', '9.10.2.4', 'G6', 'G3', 'G2', 'G5', 'G6', 'G2', 'G3', 'E-4', '7.10.1', 'F6', '2.5.7', 'G#5', 'G5', 'G#3', 'G4', 'B-5', 'G5', 'F#4', 'D4', '8', 'G6', 'G#5', 'F6', '1.4.8', 'G2', 'G5', 'F5', '6.8.11.2', 'G#3', 'G5', 'G5', 'G5', 'G6', '1.2', 'G#1', 'A1', 'A0', '7.9.2', 'G6', 'F#1', 'E-4', 'G#4', 'C1', '5.8', '10', 'G6', 'G#4', 'E-4', 'G3', 'G#5', 'B-2']\n",
            "Time for epoch 81 is 0.8253862857818604 sec\n",
            "['2.6.9', 'G3', '5.9', 'C#1', '8', '7.0', 'G5', 'G4', 'C1', '4.9.10', 'G#6', '10.2', '9.2.3', 'B-5', 'G3', 'E2', 'G#2', 'G6', 'C3', 'G2', 'F#2', '8.11.1', 'G#2', '2', 'E5', 'G#2', 'G2', 'G4', '1.6', '8', 'G4', '6.8.1', 'G4', 'F3', 'G6', 'F#6', 'G5', 'G1', 'B6', 'D4', 'E1', 'C#4', '3.6.10', '8.9', 'G5', 'G6', 'G6', 'E4', 'G5', 'G6', 'G3', '11.2', 'G3', 'G6', 'G3', 'E3', 'C#6', 'D4', '8.9', 'F3', 'G5', 'G5', 'F#6', 'G2', '1.3', 'G5', 'G2', 'B1', '11.2.5', 'G5', '10.3', 'G#5', 'F3', 'C#1', 'G#6', '9.0.3.5', 'G1', '3.5', 'F4', 'G5', 'G#4', 'G6', 'F#4', 'G5', '5.8.0', 'G#3', 'F#1', 'G5', '10.3', 'C4', 'B-1', 'E-6', 'F5', 'F6', 'G6', 'B-6', 'B-3', 'G5', 'F#2', 'E5']\n",
            "Time for epoch 82 is 0.809725284576416 sec\n",
            "['D3', 'G1', '8.10', '0.2.5', 'G4', '7.8', 'G6', 'G3', '3.4.8.10', 'F3', 'G3', '7.11.0', '8.1', 'G#3', 'C#7', 'B-6', 'B2', 'G6', 'C5', 'G5', 'G4', 'A3', '0.4.5', '1', 'G3', 'F5', 'G4', 'G6', '0.3.5', 'F5', 'G5', 'G2', 'G6', '6.10.0', 'G6', 'G5', 'G4', 'G4', 'G4', '6.8.11.2', 'G5', 'G3', 'D2', '10.2.4', 'G#6', 'G6', 'G1', 'G#1', 'G6', 'F1', '3.6', 'E-6', 'E1', 'G1', 'G#4', '3.6', 'C#3', '11.1.5', '4.8', 'C#2', 'G1', 'G3', 'C#2', 'D3', 'E5', 'E5', 'F6', '9.0.3.5', 'G3', 'G5', '8.9.1.3', 'G#5', 'F1', '1.2', 'G1', '5.10', 'G2', '9.2.3', 'B4', 'F6', '11.2.4.6', 'E-5', 'A2', 'G6', '1.2', 'F6', 'F5', 'F2', '4.5.9.0', 'G#5', 'C#6', 'A1', '6.9.0', 'G#4', 'G4', '4.5.9', 'F2', '4.6.9.11', 'C3', 'C6']\n",
            "Time for epoch 83 is 0.8163220882415771 sec\n",
            "['4.7.9', '9.10.2.4', 'G5', '1.3.6', 'G4', 'G#5', 'G6', '6.8', 'F#3', 'G2', 'G4', 'G4', '9.11', 'G1', 'C4', '2.6.10', 'G#3', 'G6', '2.5', 'G6', 'G#5', 'G3', 'F1', 'G4', 'G3', 'G6', 'G#4', 'G4', 'G6', 'G5', 'G3', 'G4', 'F6', 'G5', 'C5', 'D2', '11', 'G#5', 'G6', 'G6', 'G6', 'G2', '9.2', 'G#5', '1.3.7', 'G6', '0.3', 'G1', 'G6', 'F6', 'B-2', 'C#5', '11.1.4', '2.6.7.9', 'G4', 'F#2', 'F2', '9.0.3.5', 'G3', '2.5.9', '0.2.4.7', 'D1', 'F4', '1.3', 'G5', '9.11.4', '8.11.1.4', 'C4', 'G1', 'G2', 'F#3', '9.11.4', 'C3', 'E-2', 'F#1', 'F1', '5.10', 'G3', 'F#3', '2.5.9', 'F4', '10.0.4', '2.8', 'G4', 'F#4', 'F3', 'E3', '2.5.7.10', '9.1', 'G6', 'E-6', 'G1', 'F#4', 'E-3', 'D3', '3.4', 'G#5', '0.4.7', '4', '6.9.1']\n",
            "Time for epoch 84 is 0.7913892269134521 sec\n",
            "['G3', '1', 'G6', 'G4', 'D6', 'G#4', 'G6', '11.1.6', 'G3', 'G4', 'G5', 'G5', 'F1', 'G6', 'F6', 'F#4', '4.7.9', 'G5', 'G2', 'G6', 'G#4', 'G6', 'G5', 'G6', 'E-5', '7.11.0', 'F#4', '9.2', 'G6', 'G3', '11.0', '9.10.2.4', '0.2.7', 'G1', '1.2.6', '0.2.7', 'F3', 'F6', 'G6', 'G4', 'G1', 'F4', '3.6.9.11', 'D6', '1.3.6', 'G6', '0.1', 'F5', 'G6', '10.2.3', 'C6', '0.3.6.9', 'F#5', '0.4', 'G1', 'G1', 'F6', 'A2', 'G5', 'G#3', '0.2', '1.4', 'E-2', '10.1', 'G#3', '1.3.6', 'G#3', 'G#4', '8.1', '3.6.9.11', 'G#2', 'F4', 'G#6', 'G5', 'C6', 'G4', '1.4.8', 'G1', '9.0', '8.10', 'G4', 'F3', 'C#6', 'F#6', 'G#1', '2.4', 'G4', 'D1', 'E4', 'G3', 'G#6', 'G5', 'F4', 'C#6', 'F#2', 'F#5', 'G#3', 'F5', 'F2', '9.11.2']\n",
            "Time for epoch 85 is 0.8185291290283203 sec\n",
            "['F5', '11.1', 'G#1', 'G2', '0.6', '6.7.11', 'G4', 'F2', 'C#2', 'G#1', 'G6', 'G6', '0.3.6', '0.4', '1.4.6.9', 'G#1', '1.2', '1.2', 'G1', 'G3', '10.2.3', 'G4', 'G5', 'G5', '9.11.2.5', '5.7', 'G1', 'C2', 'G6', '6.10.0', 'G#3', '7.10', '7.10.1.3', 'G3', 'F#4', 'F#3', 'G6', 'G5', 'G6', 'F3', 'G6', 'F#6', 'F3', 'G4', 'G2', 'G6', '11.3.6', '9.2', 'G5', '7.8', 'G5', 'B6', 'G6', 'F#1', 'B5', 'D2', 'G6', 'G4', 'G6', 'G#1', 'G3', 'F1', 'C6', 'G#4', 'G1', 'G3', 'G4', 'G2', 'F4', '0.3.6', 'G#1', 'G1', 'G4', 'G1', 'B-5', '2.5.7.10', 'G#1', 'G#4', 'C5', 'G4', 'G6', 'E2', 'G#5', 'G4', 'G3', 'G#1', 'G3', 'E-6', 'G2', 'E-1', '6.9', 'G6', 'G#1', '9.10.2.4', '1.3', 'F#5', '6.9.1', 'G4', 'F#6', 'C4']\n",
            "Time for epoch 86 is 0.835442304611206 sec\n",
            "['G4', 'F#1', 'G6', 'G4', 'F5', 'F6', 'E3', 'G2', 'G2', 'C6', 'G6', 'G6', 'G2', '6.7.11.2', '1.2.6', 'G2', 'F1', '0.3.7', 'G5', 'G5', 'C3', 'G5', 'G6', 'G6', 'G#5', 'C4', 'G6', 'G#6', 'G6', '0.4', '0.6', '1.5.8', 'G6', '4.5.9.0', 'G#6', 'G2', 'G6', 'F#5', 'E4', '9.11.2.5', 'G1', '0.3.6.9', 'F#5', 'G4', 'G#6', 'F2', 'G5', '1.5.9', 'D4', 'G#4', 'G#5', 'G1', 'G6', '6.9', '10.1.3', 'F#5', 'G2', 'G#3', '2', 'G#1', 'G5', 'G3', '1.4', 'B4', 'D7', 'G4', 'G#6', '7.10.2', 'F4', '0.4', 'A4', 'F5', 'C1', '3.9', '1.4', '1.3', 'G3', 'F#1', 'F#5', 'B4', 'G4', '7.0', '6.9', 'F3', 'G#6', 'G2', 'G#1', 'C4', 'G6', 'G1', 'G1', 'G5', '8.11.1', 'F#3', '8.10.3', 'G6', 'G#6', 'F5', 'F3', '3.7']\n",
            "Time for epoch 87 is 0.8392536640167236 sec\n",
            "['A4', 'G2', 'G5', 'G3', 'G1', 'G1', 'G#1', 'G3', 'G4', 'E-1', 'G6', 'G6', 'G3', 'G#1', '6.9.0', 'G#6', 'G1', 'B-5', 'G4', 'G#2', 'G2', '1.4', 'G6', 'G5', 'G4', 'G4', 'G6', 'G6', 'G6', 'E-1', '7.10.2', 'D1', 'G5', 'F#5', 'G4', 'G3', 'G6', 'B5', '11.4', 'C2', '6.11', '9.11.2.5', 'G4', 'G6', 'G6', '1.7', 'G4', 'G3', 'B2', 'G3', 'G6', 'G4', 'G5', 'G#5', 'E-4', '9.10.2.4', 'F5', 'F4', 'F6', 'D6', 'G6', 'G3', 'G1', 'E-3', '8.10', 'G3', 'F3', '10', 'F6', '7.9.1', '3.7.9', 'F2', '0.3.6.9', '11', '4', '0.3.6', 'G4', '7.11.2', '1.3.6', 'G#5', '3.6.9.11', 'G#4', '9.2', 'B2', 'E3', 'G5', '1.3', 'F3', 'G5', 'F#2', '7.10.2', 'G2', '9.11.2.5', 'F3', '11.3', 'G5', '3.7', 'E5', '3.4.8', 'G#6']\n",
            "Time for epoch 88 is 0.8593502044677734 sec\n",
            "['0', 'F3', '0.1', 'F#2', 'C5', 'B-1', '1.5.8', 'G#6', 'F#6', '11.1.6', 'E5', '10.2.3', '7.10.1', '6.7.11', 'B0', '5.7', 'F3', 'G1', 'G2', '0.4.5', 'G3', '0.1', 'G#6', '0.2.7', 'B2', 'D7', '5', 'G6', 'G#2', 'F2', 'G3', 'G5', 'G#5', 'F3', 'G4', 'G5', 'G2', 'F#1', 'C#7', 'G2', '7', 'G#6', 'G6', 'G2', 'G4', 'B0', 'G5', 'G4', 'G2', 'G4', 'G5', 'G5', '9.11.2.5', 'G2', 'C4', 'F#3', 'F3', 'B2', 'G6', 'A6', 'G6', 'G#5', 'G5', 'F#6', '8.11.3', '9.10.2.4', 'E2', '8.10', 'G#2', 'G#4', 'C6', '4.5.7.11', '11', 'G#1', 'G#6', '2.5.7', 'G5', 'F1', '2.6.7.9', 'G5', '0.2', 'G2', 'F#6', 'E-6', '0.3.7', 'F4', '0.2.7', 'E3', 'F5', '1.2', 'E-1', '0.4.5', '8.11.3', '1.4', '0.3.6.9', 'F2', '1.4.6.9', '1.3.8', '1.4.7.9', 'G#5']\n",
            "Time for epoch 89 is 0.841170072555542 sec\n",
            "['A0', 'C7', '0', 'G3', 'G1', '1.4.6', '1.4.7', 'E3', 'A6', 'E-1', '2.5.7', '0.2.7', 'F#1', 'B2', 'D4', '7.9.11.2', '1.4.7', 'G1', '1.5.9', '0.2', '9.2.3', '0', '1.4.7', '1.2.4.6.8.10', '1.2.6', '1.4.7.9', '0', 'F#1', '4', 'G3', 'F#4', 'G6', '9.11.4', '1.5.8', '3.6', '1.4.8', '0', 'G#1', '5.9.11', 'D2', '11.3', 'B-2', 'B-4', '3.4.8.10', '8.11.1', '0.3.7', 'G6', 'E4', '3.6', 'G5', '1.4.6.9', 'G5', '0.3.6.9', '3.4.8.10', '0.3.6.9', 'A3', '0.6', '2.6', 'G5', '6.9', 'G6', 'G3', 'G6', 'E-2', '1', '1.4.6.9', '2.4.8', 'G6', '0.2.5', 'G5', 'B4', '0', 'F4', '4.6.10', 'G#3', 'G#6', '10.1.5', 'G4', 'G4', 'F3', '5.7', '9.2', 'E1', '10.0.5', 'F#3', '2.6.9', 'G#1', '4.9.10', 'G6', '7.8', 'F4', 'C#7', '9.0.4', '2.4.6.9.11', 'G3', 'G5', 'G5', 'C#3', 'G3', 'G5']\n",
            "Time for epoch 90 is 0.7923824787139893 sec\n",
            "['G#1', 'E-2', '2.4.6.9.11', '4.7.9.0', 'G4', 'F1', 'G4', 'G3', '1.5.8', 'F#2', '4.6', 'G#5', 'G2', 'G4', 'G#3', 'D1', 'A4', 'G4', 'C#3', '1.2.4.6.8.10', 'D1', '0.2', 'G3', 'G5', 'G5', 'G3', '4.8', '11.0', 'G4', 'G#4', 'F#3', 'G6', 'G#6', 'G#4', '0.3', '1.5.9', '0.3.7', '1.4.8', '3.6', '1.5.9', 'G#1', 'F1', 'G#6', 'G5', '9.11.1', 'G#1', 'G4', 'E2', '1.3.8', '4.7', '1.4.6.9', 'G6', 'B2', '7.9.2', '1.3.6', 'G5', '9.11.0.4', 'F4', '11.2.4.6', 'E5', 'G6', '11.1.4', 'G3', '1.3.6', 'C#7', 'E6', '0.1', 'G2', '4', 'G5', '9.1.4', '0', 'G2', 'C5', '10.1', 'G6', '6.8', '6.9.11.2', 'G1', '0.3.6', 'G2', '10.1', '5.9.11', '0.2.7', 'G4', '10.1.4.6', '9.1', '6.9.0', 'G6', 'G3', 'B-2', '6.9.0.2', 'C2', 'D7', 'G#6', 'C6', 'F4', 'E6', 'A0', 'F3']\n",
            "Time for epoch 91 is 0.8271124362945557 sec\n",
            "['G#6', '9.0.2.5', 'G#1', '8.0.3', '8.9.1', '8', 'G#4', 'G2', '6.8.10', 'E4', '9.11.0.4', 'G#2', 'G5', 'G5', 'G5', '1', '5', 'C#6', '11.3', 'G#2', '3.8', 'G4', 'D1', 'G6', 'G5', 'G3', 'G3', '9.10.2.4', 'G5', 'F5', 'G#6', 'G6', 'G#3', 'F#5', 'G3', 'G#4', 'G#6', 'F4', 'G#4', 'C7', 'G4', 'G5', 'G6', 'G5', 'E3', '9.1.4', '2.6.10', 'C7', '6.9.0.2', 'C1', 'F#4', 'G6', '8.9.1', 'F4', '4.5.7.11', 'G#6', '6.7.11.2', '2.4', 'D6', 'E2', 'G5', 'E-1', 'G3', '10', 'C#1', 'G3', '9.0.4', 'G#1', '5.9', 'G5', 'F4', 'B-5', 'G1', 'F#2', '4.6.9.11', 'G6', 'B-2', '2.6', 'G#5', '3.4', 'G4', 'F2', 'G#6', 'G#6', 'G4', '4', 'B6', 'G2', '3.5.7.10', 'F2', 'E-3', '6', '2.4', 'E-6', 'F5', '0.3.6', 'E-6', '8.10.1', '6.7.11', 'F3']\n",
            "Time for epoch 92 is 0.8192594051361084 sec\n",
            "['G#5', 'C7', 'G6', 'G#6', 'G#5', 'G#4', 'G4', 'D5', 'G4', 'E5', 'G5', 'G5', 'G5', 'G6', 'G5', 'F#4', 'G2', 'G1', 'F6', 'G5', 'F5', 'G5', '4.5.7.11', 'G6', 'G6', 'G4', 'G6', 'G#5', 'G6', 'G#5', 'F#6', 'G6', 'C#7', 'G1', 'G5', 'G#4', 'C#3', 'B5', 'G1', 'G4', 'G#2', 'G5', 'G6', '6.9.1', 'G#5', '3.5', '3.5.7.10', '9', 'G4', '4.5.9', 'G#3', 'G5', '10', 'B5', 'G#3', '9.11.2.5', '2.6.10', '0.4', 'E-1', '11.2.6', '10.1.4.6', 'G1', 'F2', '7.11.0', 'C6', 'G#2', 'E5', '11.0.5', '4.5.9.0', 'G3', 'C7', 'G5', 'G#3', 'D1', 'G3', 'G6', 'G2', '1.3.7', 'G#3', '9.2.3', 'G#2', 'F2', 'G#4', 'G3', 'G1', 'F#2', '6.9', 'G2', '0.1', 'G#1', 'F#1', 'D7', 'F2', 'G4', 'F#6', '4.6.9.11', '8.11.3', 'D4', '5.8.0', '8.9.1.4']\n",
            "Time for epoch 93 is 0.8202254772186279 sec\n",
            "['D1', 'G#3', 'G5', 'G2', '3.5', 'F5', '9.11.2.5', 'B-4', 'G4', 'G3', 'G1', 'G#3', 'G4', 'G6', 'G6', 'F6', 'G2', 'F5', 'G#1', 'G4', 'E-2', 'G6', 'F#1', 'G6', 'G#6', 'C#7', 'G6', '6.7', 'G6', '10.1.4.6', 'E5', 'G6', '10.1.4.6', 'F#6', 'G5', 'G2', 'G3', 'F4', 'G5', 'G3', 'G#3', 'G2', 'G5', '1.4.6.9', 'F#4', 'C#5', 'G#3', 'E4', 'G5', 'B3', 'G4', 'G2', 'E-4', 'D4', 'G4', 'B2', 'G#3', 'G#1', 'E1', '1.4', 'C#4', 'G5', 'D4', 'G#3', 'D3', 'G2', 'G4', '9.0', 'E5', 'G1', 'D4', 'G5', 'G#3', 'C#7', 'G5', 'G6', 'G#6', '3.6', 'G1', 'G2', 'G#4', 'F3', 'F#1', 'G4', '5.8.10', 'G#6', 'A2', 'G#2', '0.1', 'A4', 'C7', 'E3', 'F#5', 'G#6', 'G#6', '11.2.6', '8.9.2', 'B-2', '9.11.4', '1.5.8']\n",
            "Time for epoch 94 is 0.839146614074707 sec\n",
            "['E-1', 'G#3', 'G4', 'G#4', '9.11.4', 'E3', 'F1', 'F4', 'G#4', 'E-1', 'G1', 'B1', 'F5', 'G4', 'G5', 'G1', 'G1', 'G#1', 'G#6', 'G#6', 'F6', 'G6', 'G#1', 'G5', '6.10.11.1', 'A0', 'G6', 'G#2', '9.11.4', '10', 'E4', 'G3', 'G#3', 'G#1', 'G1', 'F6', 'G4', 'G#5', 'G#5', 'G3', 'F#6', 'D6', 'D7', '1.5.8', 'C7', 'F#3', 'G4', 'G3', 'G6', 'E-6', 'E5', '1.3', 'E5', 'G#1', 'G5', '8.9.1', 'G#3', 'G4', 'F#3', 'E6', '6.10', 'G5', '11.2', 'F#5', '8.9', 'G3', 'G4', '2.4.9', 'E-4', 'E5', '5.11', 'G4', 'G#5', '10', 'G4', 'G2', 'G3', '9.0.3.5', 'F#1', 'G#3', '9', '8.0.3', '1.2.4.6.8.10', 'G#4', '1.3', 'F6', 'F#2', 'A0', '10.2', 'F2', 'G3', 'F1', 'G#2', 'E-5', 'F5', '1.3.8', 'B2', '8', 'E6', '3.5.7']\n",
            "Time for epoch 95 is 0.8036043643951416 sec\n",
            "['E6', '1.2.4.6.8.10', 'B-4', '10.1', '6.10.11.1', '0.4', 'G#6', 'B1', '0.3.7', '0.2.4.7', '2.3.7.10', '0.1', '1.4.8', '11.3', 'B-4', 'G1', '6.10.0', '8.9.1.3', 'G#1', 'D5', 'C5', 'G5', '6.9.11.2', 'A1', '2.4.6.9.11', '11.3', 'C#1', 'G#6', '0.1', '10.1.4.6', 'E5', '0.2.4.7', 'G4', '3.4.8.10', '5', '2', 'F#6', 'G2', 'F#3', 'G#4', 'G#6', '2.6', '0.2.4.7', 'G#1', '4.5.9.0', 'G2', 'G1', 'F6', 'G4', 'G#3', '10.0', '0.1', 'G#4', 'G#1', 'G6', '11.2.4', 'F3', 'G6', 'E4', 'F#5', '11.2.4.7', 'G6', '5.8.10', 'G#1', '7.0', 'G1', 'G#6', 'E6', 'F#4', '7.8', 'F5', 'G3', 'G2', 'A1', 'G#1', 'D1', 'G6', 'G2', '10.2.3', '7.11.2', 'E-4', '10.11', '0.2.7', '5.8.11', '1.4.7.9', '6.8.1', 'G#5', '0.4.5', 'B-3', 'B6', 'G#1', 'A5', 'B-1', '0.1', '9.0.2.5', '2.3.7.10', 'E-2', '1.5', '7.9.2', 'G#2']\n",
            "Time for epoch 96 is 0.8056459426879883 sec\n",
            "['G#6', '8.9.1', 'G6', 'E-5', 'G4', 'F#2', 'G4', 'C#5', 'F#5', 'F#6', 'G5', 'F#4', 'G#6', 'E4', '3.5.7.10', 'G5', 'G1', 'G#5', 'G2', '9.2', 'G#4', 'G4', 'F2', '11', 'G5', 'G6', '6.9.11.2', 'F#4', '1.4.8', 'E-4', 'G#4', '0.2.7', 'G5', 'G3', 'E-6', 'C#7', '8.9', 'G1', 'A6', 'G4', 'G5', 'G1', '4.7.11', 'G6', 'F#3', 'G5', '6.9.0', '2.4.7', 'G4', 'G#2', 'B-1', '1.4.6', 'G1', 'E-6', 'G6', 'B-2', 'G#6', 'G6', '2.8', 'G3', '10.2', '9.1', 'B-1', 'E5', '1.3.6', 'G1', 'C#4', 'E-3', 'G#3', '10.1.5', '9.0.3.5', 'G4', 'B-3', '8.9.1.4', 'F6', '4.8.9', '9.11', 'F6', '0.4', '2.8', 'E-6', '5.8.11', '4.7.9.0', 'D2', '2', 'G3', 'F3', '11.3.6', 'C3', 'G#3', '5.9.11', 'G2', '0.5', '1.3.6', '8.1', 'E-5', '3.5.7', 'B4', 'F#6', 'G#2']\n",
            "Time for epoch 97 is 0.8246564865112305 sec\n",
            "['F6', '7.9.2', 'G6', 'C#6', 'G6', 'G1', 'G5', 'F#3', 'F5', 'G5', 'G4', 'G2', 'F#3', 'F#5', '1.3.8', 'G4', 'G#6', 'E3', 'G3', 'F6', 'E6', 'F#2', 'E-3', '7.9.0', 'G6', 'G6', 'F#4', 'E4', 'F3', 'F#6', 'F1', '1.4', 'G#5', 'G5', 'F6', 'G2', 'F#1', 'G2', 'E-6', 'G6', 'G4', 'G5', 'G5', 'G6', 'G3', 'G5', '8.11.1.4', 'E-6', 'F5', 'G4', 'F6', 'F6', 'G5', 'G#6', 'G6', 'F5', 'G#4', 'G6', '6.8.10', 'G#5', 'D2', '0.4.7', 'F#1', '9.1', 'F6', '9', '8.9.1', 'C4', 'G#5', 'E-1', '4.8', 'G4', '0.2.5', 'C#1', '6.10.0', 'D4', '0.3', 'G#1', '6.10.11.1', 'B3', '3.7.9', 'C#3', 'F3', 'G#4', 'B-2', 'G6', '7.9.11.2', '6.10.0', 'E5', '5.8', 'G#5', 'G3', '1.3', 'G#5', 'C5', 'F#2', '6.9.0.2', 'F3', 'G#5', 'F5']\n",
            "Time for epoch 98 is 0.8176138401031494 sec\n",
            "['G1', 'G1', 'G6', 'G6', 'G6', 'G6', 'E6', 'G6', 'G2', 'G6', 'E-1', 'G5', '0.4.5', 'D2', '5.8.10', 'G#6', 'G#1', 'G#6', 'G3', '9.1', '3.6', '0.3.7', '10.2', 'G4', 'G6', 'G6', 'F#3', 'G#6', 'G1', 'F1', 'C#4', 'G3', 'G#5', 'F#1', '1.4', 'G2', 'F4', 'G1', '3.4', 'G3', '4.6.9.11', 'G4', 'G5', 'G4', 'G3', 'G5', 'G#1', 'G#6', '1.4.6', 'G5', 'G3', 'G#6', 'G6', 'G2', 'G3', 'G4', '11.4.5', 'G6', 'G#6', 'G#5', 'G#2', '0.6', 'F2', 'F#5', 'F#6', '1', 'F5', 'C5', 'G#3', '2.4', '8.9.1.3', 'F3', '8.11.1.4', '8.11.1.4', '9', '9.0.3.5', '1.3.8', 'G5', 'A5', 'G#4', 'D3', 'E5', 'G3', 'G4', 'F6', 'G6', 'B1', 'C#2', 'G3', 'D3', 'G4', 'F#4', 'G#5', 'G4', '1.5.8', 'D2', 'F1', 'F#6', 'G5', 'C1']\n",
            "Time for epoch 99 is 0.8292782306671143 sec\n",
            "['G#5', 'G1', 'G5', 'G6', 'G6', 'G5', '6.7.11', 'G6', 'G6', 'G4', 'G#3', 'G6', '9.0.3.5', 'E6', 'G2', 'G2', 'E-2', 'G4', 'B-3', 'G#1', 'F#2', '10.3', 'F2', 'G6', 'G6', 'G5', 'F4', 'G4', 'G4', 'G#5', '9.10.2.4', 'G6', 'G4', 'C#6', '9.11.2', 'F#6', '7.0', 'E2', '8.11.1', '7.9', '8.9.1', '2.6', '7.11.2', 'F#6', 'G5', 'G4', 'G4', 'G3', '0.2.4.7', 'G5', 'G6', 'E1', 'G6', 'C2', '0.4.5', 'G1', '3.5.7.10', 'F5', 'G2', 'G1', 'F5', 'F3', 'F#2', '7.10', 'A5', '1.4.7.9', 'G2', 'B-2', '9.11.0.4', '10.1', 'E2', 'G4', 'G4', '4.8.9', 'G3', 'E-3', 'G#2', 'G4', 'B-1', 'C#7', 'F6', 'G3', 'G4', 'G3', 'F#4', '7.11.2', '9', 'C#7', 'G5', 'G#5', 'G3', '0.4', 'G4', 'G1', '1.2', 'F6', 'F#4', 'B5', 'G4', '0.3.6']\n",
            "Time for epoch 100 is 0.8348891735076904 sec\n",
            "['11.4', 'F5', '1.3.7', 'G6', 'G2', 'G#3', '4.9.10', 'G5', 'G5', 'F#4', 'E-5', 'G6', 'G4', '8.10.1', 'G4', 'B1', 'E-3', 'G5', '3', 'G#6', 'F4', 'F6', 'G5', 'G6', 'G6', 'C#4', 'G1', 'G5', 'G5', 'G1', 'C5', 'G6', 'F6', 'D1', 'G5', 'E1', 'G5', '10.1.5', 'G5', 'C#3', 'G3', 'F#4', 'C#6', 'G2', 'G6', 'F5', 'G3', 'G6', '11.0', 'G1', 'G6', 'F4', 'G6', '10', 'A3', '9.0.2.5', 'C#2', '1.4', 'G3', 'C#4', 'G#4', 'G2', 'G#1', '4.6.9.11', '9.2.3', 'E1', 'E-1', 'F1', '4.5.9.0', 'D2', 'D2', 'G6', 'G5', 'F#1', 'G3', 'G#4', 'G1', 'G1', 'F6', '7.10', 'G#3', 'G3', 'G#1', '1.4.6', 'B2', '8.9.1.4', '3.6.10', 'G#3', 'G5', 'G2', '3.6', '0.2.5', 'G5', 'F2', '7.9.0', 'C3', '4', '9.0', 'C#7', '0.5']\n"
          ]
        }
      ]
    },
    {
      "cell_type": "markdown",
      "source": [
        "## save model"
      ],
      "metadata": {
        "id": "I5uzxwPVl7E_"
      }
    },
    {
      "cell_type": "code",
      "source": [
        "from google.colab import drive\n",
        "\n",
        "drive.mount('/content/gdrive', force_remount=True)"
      ],
      "metadata": {
        "colab": {
          "base_uri": "https://localhost:8080/"
        },
        "id": "abyTf0H-l8wn",
        "outputId": "522b9567-3931-4565-c185-9d82c4303676"
      },
      "execution_count": null,
      "outputs": [
        {
          "output_type": "stream",
          "name": "stdout",
          "text": [
            "Mounted at /content/gdrive\n"
          ]
        }
      ]
    },
    {
      "cell_type": "code",
      "source": [
        "checkpoint_dir = './simple_gan_song_cp'\n",
        "checkpoint_prefix = os.path.join(checkpoint_dir, \"ckpt\")\n",
        "checkpoint = tf.train.Checkpoint(generator_optimizer=generator_optimizer,\n",
        "                                 discriminator_optimizer=discriminator_optimizer,\n",
        "                                 generator=generator,\n",
        "                                 discriminator=discriminator)\n",
        "\n",
        "checkpoint.save(file_prefix = checkpoint_prefix)"
      ],
      "metadata": {
        "colab": {
          "base_uri": "https://localhost:8080/",
          "height": 35
        },
        "id": "pBKOfbw8dT9V",
        "outputId": "179800b7-c93c-41bc-8c29-bb7c8b6127fc"
      },
      "execution_count": null,
      "outputs": [
        {
          "output_type": "execute_result",
          "data": {
            "application/vnd.google.colaboratory.intrinsic+json": {
              "type": "string"
            },
            "text/plain": [
              "'./simple_gan_song_cp/ckpt-1'"
            ]
          },
          "metadata": {},
          "execution_count": 62
        }
      ]
    },
    {
      "cell_type": "code",
      "source": [
        "!cp -r  \"song_cp_2\" \"/content/gdrive/My Drive/simple_gan_song_cp_final/\"  #move file from A to B"
      ],
      "metadata": {
        "colab": {
          "base_uri": "https://localhost:8080/"
        },
        "id": "CC7lndUhdixi",
        "outputId": "ee0fa8d5-002f-4e3f-d7a0-bb8ae02ee72c"
      },
      "execution_count": null,
      "outputs": [
        {
          "output_type": "stream",
          "name": "stdout",
          "text": [
            "cp: cannot stat 'gan_song_cp_new_2': No such file or directory\n"
          ]
        }
      ]
    },
    {
      "cell_type": "markdown",
      "source": [
        "## restore model"
      ],
      "metadata": {
        "id": "7Bs2cYU6mTwE"
      }
    },
    {
      "cell_type": "code",
      "source": [
        "!cp -r \"/content/gdrive/My Drive/simple_gan_song_cp_final/\" \"simple_gan_song_cp_final3\"  #move file from A to B"
      ],
      "metadata": {
        "id": "CGYEpXUemAbE"
      },
      "execution_count": null,
      "outputs": []
    },
    {
      "cell_type": "code",
      "source": [
        "checkpoint_dir = './simple_gan_song_cp_final3'\n",
        "checkpoint_prefix = os.path.join(checkpoint_dir, \"ckpt\")\n",
        "checkpoint = tf.train.Checkpoint(generator_optimizer=generator_optimizer,\n",
        "                                 discriminator_optimizer=discriminator_optimizer,\n",
        "                                 generator=generator,\n",
        "                                 discriminator=discriminator)\n",
        "\n",
        "status = checkpoint.restore(tf.train.latest_checkpoint('./simple_gan_song_cp_final3'))"
      ],
      "metadata": {
        "id": "YTTB6d40mjhJ"
      },
      "execution_count": null,
      "outputs": []
    },
    {
      "cell_type": "markdown",
      "source": [
        "## generate song"
      ],
      "metadata": {
        "id": "dnApUTRlaQUA"
      }
    },
    {
      "cell_type": "code",
      "source": [
        "def create_midi(prediction_output, i):\n",
        "    \"\"\" convert the output from the prediction to notes and create a midi file\n",
        "        from the notes \"\"\"\n",
        "    offset = 0\n",
        "    output_notes = []\n",
        "\n",
        "    # create note and chord objects based on the values generated by the model\n",
        "    for pattern in prediction_output:\n",
        "        # pattern is a chord\n",
        "        if ('.' in pattern) or pattern.isdigit():\n",
        "            notes_in_chord = pattern.split('.')\n",
        "            notes = []\n",
        "            for current_note in notes_in_chord:\n",
        "                new_note = note.Note(int(current_note))\n",
        "                new_note.storedInstrument = instrument.Piano()\n",
        "                notes.append(new_note)\n",
        "            new_chord = chord.Chord(notes)\n",
        "            new_chord.offset = offset\n",
        "            output_notes.append(new_chord)\n",
        "        # pattern is a note\n",
        "        else:\n",
        "            new_note = note.Note(pattern)\n",
        "            new_note.offset = offset\n",
        "            new_note.storedInstrument = instrument.Piano()\n",
        "            output_notes.append(new_note)\n",
        "\n",
        "        # increase offset each iteration so that notes do not stack\n",
        "        offset += 0.5\n",
        "\n",
        "    midi_stream = stream.Stream(output_notes)\n",
        "    file_name = \"gan_output\"+str(i)+\".mid\"\n",
        "\n",
        "    midi_stream.write('midi', fp=file_name)"
      ],
      "metadata": {
        "id": "3_ThZe3-alHE"
      },
      "execution_count": null,
      "outputs": []
    },
    {
      "cell_type": "code",
      "source": [
        "sample_noise_vector = tf.random.normal([num_examples_to_generate, noise_dim])\n",
        "predictions = generator(sample_noise_vector, training=False)\n",
        "\n",
        "pred = numpy.reshape(predictions.numpy() * n_vocab, (100,)).astype(int)\n",
        "\n",
        "sample_generated_song = []\n",
        "for n in pred:\n",
        "  if n==279:\n",
        "    n=278\n",
        "  sample_generated_song.append(int_to_note[n])\n",
        "print(sample_generated_song)\n",
        ""
      ],
      "metadata": {
        "colab": {
          "base_uri": "https://localhost:8080/"
        },
        "id": "ACRFMhQSaR4u",
        "outputId": "6d2bb67f-c7d9-4e50-eea6-18ee1a7c6a2c"
      },
      "execution_count": null,
      "outputs": [
        {
          "output_type": "stream",
          "name": "stdout",
          "text": [
            "['G4', 'G5', 'G6', 'F2', '9.1.4', 'G1', 'G2', 'G6', 'G4', 'G6', 'G6', 'C3', 'G1', 'G2', 'D1', 'G4', 'G1', '4.6.10', '0.3.7', 'G6', 'G#5', 'G5', 'G1', 'G6', 'G5', 'G5', 'G#6', '1', 'G3', '1', '2.5.7', 'F#1', 'G3', 'G2', '1.4.7.9', '3.6.8', 'G2', 'D3', 'G1', 'G#1', 'G6', 'E5', 'G6', 'G3', 'C3', 'C#5', 'D7', 'C4', '2.6.7.9', 'G6', 'G5', '8.11.1.4', 'F#3', 'G4', '4.6', 'G6', '3.5', 'G4', 'G2', 'F#4', 'F6', 'G#6', 'G#2', 'G6', 'G5', 'G4', 'G#3', 'E-5', '3.7', '7.11', '4.5.9.0', 'F6', 'B-5', '6.8', 'F#2', 'A6', 'E1', '8.10.3', 'G#4', 'B-2', 'G5', 'G#4', '9', '6.7.11', 'G#2', 'G4', 'G6', 'F#2', 'G6', 'G#2', '8.10.1', 'G#2', 'G6', 'F5', 'G2', 'C#4', 'G6', 'C#7', 'G4', 'G6']\n"
          ]
        }
      ]
    },
    {
      "cell_type": "code",
      "source": [
        "create_midi(sample_generated_song, 30)"
      ],
      "metadata": {
        "id": "UtrWIORiaq05"
      },
      "execution_count": null,
      "outputs": []
    },
    {
      "cell_type": "markdown",
      "source": [
        "# GAN generate first 100 notes, then lstm continues with the next 500 notes"
      ],
      "metadata": {
        "id": "jJLTd4AorkG8"
      }
    },
    {
      "cell_type": "code",
      "source": [
        "import pickle\n",
        "import numpy\n",
        "from music21 import instrument, note, stream, chord\n",
        "from keras.models import Sequential\n",
        "from keras.layers import Dense\n",
        "from keras.layers import Dropout\n",
        "from keras.layers import LSTM\n",
        "from keras.layers import BatchNormalization as BatchNorm\n",
        "from keras.layers import Activation"
      ],
      "metadata": {
        "id": "B8er7a7orqzc"
      },
      "execution_count": null,
      "outputs": []
    },
    {
      "cell_type": "code",
      "source": [
        "note_to_int = dict((note, number) for number, note in enumerate(pitchnames))"
      ],
      "metadata": {
        "id": "YCSu4S8tvGyb"
      },
      "execution_count": null,
      "outputs": []
    },
    {
      "cell_type": "code",
      "source": [
        "def prepare_input_sequences(notes, pitchnames, n_vocab):\n",
        "    \"\"\" Prepare the sequences used by the Neural Network \"\"\"\n",
        "    # map between notes and integers and back\n",
        "    note_to_int = dict((note, number) for number, note in enumerate(pitchnames))\n",
        "\n",
        "    sequence_length = 100\n",
        "    network_input = []\n",
        "    output = []\n",
        "    for i in range(0, len(notes) - sequence_length, 1):\n",
        "        sequence_in = notes[i:i + sequence_length]\n",
        "        sequence_out = notes[i + sequence_length]\n",
        "        network_input.append([note_to_int[char] for char in sequence_in])\n",
        "        output.append(note_to_int[sequence_out])\n",
        "\n",
        "    n_patterns = len(network_input)\n",
        "\n",
        "    # reshape the input into a format compatible with LSTM layers\n",
        "    normalized_input = numpy.reshape(network_input, (n_patterns, sequence_length, 1))\n",
        "    # normalize input\n",
        "    normalized_input = normalized_input / float(n_vocab)\n",
        "\n",
        "    return (network_input, normalized_input)"
      ],
      "metadata": {
        "id": "KYgw9Zh3sp2S"
      },
      "execution_count": null,
      "outputs": []
    },
    {
      "cell_type": "code",
      "source": [
        "def create_trained_network(network_input, n_vocab):\n",
        "    \"\"\" create the structure of the neural network \"\"\"\n",
        "    model = Sequential()\n",
        "    model.add(LSTM(\n",
        "        512,\n",
        "        input_shape=(network_input.shape[1], network_input.shape[2]),\n",
        "        recurrent_dropout=0.3,\n",
        "        return_sequences=True\n",
        "    ))\n",
        "    model.add(LSTM(512, return_sequences=True, recurrent_dropout=0.3,))\n",
        "    model.add(LSTM(512))\n",
        "    model.add(BatchNorm())\n",
        "    model.add(Dropout(0.3))\n",
        "    model.add(Dense(256))\n",
        "    model.add(Activation('relu'))\n",
        "    model.add(BatchNorm())\n",
        "    model.add(Dropout(0.3))\n",
        "    model.add(Dense(n_vocab))\n",
        "    model.add(Activation('softmax'))\n",
        "    model.compile(loss='categorical_crossentropy', optimizer='rmsprop')\n",
        "\n",
        "    # Load the weights to each node\n",
        "    model.load_weights('./Classical-Piano-Composer/weights.hdf5')\n",
        "\n",
        "    return model"
      ],
      "metadata": {
        "id": "_IC9VSx2sax0"
      },
      "execution_count": null,
      "outputs": []
    },
    {
      "cell_type": "code",
      "source": [
        "def generate_notes(model, network_input, pitchnames, n_vocab):\n",
        "    \"\"\" Generate notes from the neural network based on a sequence of notes \"\"\"\n",
        "    # pick a random sequence from the input as a starting point for the prediction\n",
        "\n",
        "    pattern = []\n",
        "    for n in network_input:\n",
        "      pattern.append(note_to_int[n])\n",
        "    prediction_output = []\n",
        "\n",
        "    # generate 500 notes\n",
        "    for note_index in range(500):\n",
        "        prediction_input = numpy.reshape(pattern, (1, len(pattern), 1))\n",
        "        prediction_input = prediction_input / float(n_vocab)\n",
        "\n",
        "        prediction = model.predict(prediction_input, verbose=0)\n",
        "\n",
        "        index = numpy.argmax(prediction)\n",
        "        result = int_to_note[index]\n",
        "        prediction_output.append(result)\n",
        "\n",
        "        pattern.append(index)\n",
        "        pattern = pattern[1:len(pattern)]\n",
        "\n",
        "    return prediction_output"
      ],
      "metadata": {
        "id": "7Tq8TAuYsdUf"
      },
      "execution_count": null,
      "outputs": []
    },
    {
      "cell_type": "code",
      "source": [
        "network_input, normalized_input = prepare_input_sequences(notes, pitchnames, n_vocab)"
      ],
      "metadata": {
        "id": "4H736ApgsudM"
      },
      "execution_count": null,
      "outputs": []
    },
    {
      "cell_type": "code",
      "source": [
        "model = create_trained_network(normalized_input, n_vocab)"
      ],
      "metadata": {
        "colab": {
          "base_uri": "https://localhost:8080/"
        },
        "id": "vRNw_wOWsi-1",
        "outputId": "67899cfa-b7e7-4a4a-bdf7-ff573152a0ef"
      },
      "execution_count": null,
      "outputs": [
        {
          "output_type": "stream",
          "name": "stdout",
          "text": [
            "WARNING:tensorflow:Layer lstm will not use cuDNN kernels since it doesn't meet the criteria. It will use a generic GPU kernel as fallback when running on GPU.\n",
            "WARNING:tensorflow:Layer lstm_1 will not use cuDNN kernels since it doesn't meet the criteria. It will use a generic GPU kernel as fallback when running on GPU.\n"
          ]
        }
      ]
    },
    {
      "cell_type": "code",
      "source": [
        "prediction_output = generate_notes(model, sample_generated_song, pitchnames, n_vocab)"
      ],
      "metadata": {
        "id": "OOtd4Cmgs0QZ"
      },
      "execution_count": null,
      "outputs": []
    },
    {
      "cell_type": "code",
      "source": [
        "generated_song = sample_generated_song + prediction_output"
      ],
      "metadata": {
        "id": "bxBwhaLOtSNH"
      },
      "execution_count": null,
      "outputs": []
    },
    {
      "cell_type": "code",
      "source": [
        "create_midi(generated_song, 105)"
      ],
      "metadata": {
        "id": "DF3ikeXptjO0"
      },
      "execution_count": null,
      "outputs": []
    }
  ]
}